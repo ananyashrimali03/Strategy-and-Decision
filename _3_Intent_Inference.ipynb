{
  "cells": [
    {
      "cell_type": "markdown",
      "metadata": {
        "id": "view-in-github",
        "colab_type": "text"
      },
      "source": [
        "<a href=\"https://colab.research.google.com/github/ananyashrimali03/Strategy-and-Decision/blob/main/_3_Intent_Inference.ipynb\" target=\"_parent\"><img src=\"https://colab.research.google.com/assets/colab-badge.svg\" alt=\"Open In Colab\"/></a>"
      ]
    },
    {
      "cell_type": "markdown",
      "metadata": {
        "id": "xWbDm9nG-9Cm"
      },
      "source": [
        "# HRI In-Class Exercise 3: Learning from Demonstration and Intent Inference"
      ]
    },
    {
      "cell_type": "markdown",
      "metadata": {
        "id": "AJfceewo-9Cn"
      },
      "source": [
        "In this in-class assignment, we will walk through intent inference, and intent expression in a simple gridworld environment.\n"
      ]
    },
    {
      "cell_type": "code",
      "execution_count": null,
      "metadata": {
        "id": "ays-ZlL_-9Cn"
      },
      "outputs": [],
      "source": [
        "# Preliminaries\n",
        "import numpy as np\n",
        "from enum import IntEnum\n",
        "import itertools as iter\n",
        "import random\n",
        "import matplotlib.pyplot as plt\n",
        "import matplotlib\n",
        "from scipy import stats"
      ]
    },
    {
      "cell_type": "markdown",
      "metadata": {
        "id": "o9KVltff-9Cn"
      },
      "source": [
        "First, we will define a simple grid world environment with obstacles. In this world, each grid location can be either free or occupied by an obstacle. The agent starts at a specified start and has to end at one of the specified goal locations. It can move up, down, left, and right, as long as it doesn't leave the grid and it doesn't enter an occupied grid location.\n",
        "\n",
        "### This part has been done for you, so no code necessary here.\n",
        "\n",
        "Take 5-10 minutes to review the code."
      ]
    },
    {
      "cell_type": "code",
      "execution_count": null,
      "metadata": {
        "id": "3WFAnxMT-9Cn"
      },
      "outputs": [],
      "source": [
        "# Defining the agent grid world.\n",
        "\n",
        "class Actions(IntEnum):\n",
        "    UP = 0\n",
        "    DOWN = 1\n",
        "    LEFT = 2\n",
        "    RIGHT = 3\n",
        "\n",
        "class AgentGridworld(object):\n",
        "    \"\"\"\n",
        "    An X by Y gridworld class for an agent in an environment with obstacles.\n",
        "    \"\"\"\n",
        "    Actions = Actions\n",
        "\n",
        "    def __init__(self, X, Y, obstacles, start, goals):\n",
        "        \"\"\"\n",
        "        Params:\n",
        "            X [int] -- The width of this gridworld.\n",
        "            Y [int] -- The height of this gridworld.\n",
        "            start [tuple] -- Starting position specified in coords (x, y).\n",
        "            goals [list of tuple] -- List of goal positions specified in coords (x, y).\n",
        "            obstacles [list] -- List of axis-aligned 2D boxes that represent\n",
        "                obstacles in the environment for the agent. Specified in coords:\n",
        "                [[(lower_x, lower_y), (upper_x, upper_y)], [...]]\n",
        "        \"\"\"\n",
        "\n",
        "        assert isinstance(X, int), X\n",
        "        assert isinstance(Y, int), Y\n",
        "        assert X > 0\n",
        "        assert Y > 0\n",
        "\n",
        "        # Set up variables for Agent Gridworld\n",
        "        self.X = X\n",
        "        self.Y = Y\n",
        "        self.S = X * Y\n",
        "        self.A = len(Actions)\n",
        "        self.start = start\n",
        "        self.goals = goals\n",
        "\n",
        "        # Set the obstacles in the environment.\n",
        "        self.obstacles = obstacles\n",
        "\n",
        "\n",
        "    ###########################\n",
        "    #### Utility functions ####\n",
        "    ###########################\n",
        "\n",
        "    def traj_construct(self, start, goal):\n",
        "        \"\"\"\n",
        "        Construct all trajectories between a start and goal of the shortest length.\n",
        "        Params:\n",
        "            start [tuple] -- Starting position specified in coords (x, y).\n",
        "            goal [tuple] -- Goal position specified in coords (x, y).\n",
        "        Returns:\n",
        "            trajs [list] -- Trajectories between start and goal in states (s).\n",
        "        \"\"\"\n",
        "        trajs = []\n",
        "        def recurse_actions(s_curr, timestep):\n",
        "            # Recursive action combo construction. Select legal combinations.\n",
        "            if timestep == T-1:\n",
        "                if s_curr == s_goal:\n",
        "                    trajs.append(list(traj))\n",
        "            else:\n",
        "                rand_actions = [a for a in Actions]\n",
        "                random.shuffle(rand_actions)\n",
        "                for a in rand_actions:\n",
        "                    s_prime, illegal = self.transition_helper(s_curr, a)\n",
        "                    if not illegal:\n",
        "                        traj[timestep+1] = s_prime\n",
        "                        recurse_actions(s_prime, timestep+1)\n",
        "\n",
        "        s_start = self.coor_to_state(start[0], start[1])\n",
        "        s_goal = self.coor_to_state(goal[0], goal[1])\n",
        "        T = abs(start[0] - goal[0]) + abs(start[1] - goal[1]) + 1\n",
        "        traj = [None] * T\n",
        "        traj[0] = s_start\n",
        "        recurse_actions(s_start, 0)\n",
        "\n",
        "        return trajs\n",
        "\n",
        "    def transition_helper(self, s, a):\n",
        "        \"\"\"\n",
        "        Given a state and action, apply the transition function to get the next state.\n",
        "        Params:\n",
        "            s [int] -- State.\n",
        "            a [int] -- Action taken.\n",
        "        Returns:\n",
        "            s_prime [int] -- Next state.\n",
        "            illegal [bool] -- Whether the action taken was legal or not.\n",
        "        \"\"\"\n",
        "        x, y = self.state_to_coor(s)\n",
        "        assert 0 <= a < self.A\n",
        "\n",
        "        x_prime, y_prime = x, y\n",
        "        if a == Actions.LEFT:\n",
        "            x_prime = x - 1\n",
        "        elif a == Actions.RIGHT:\n",
        "            x_prime = x + 1\n",
        "        elif a == Actions.DOWN:\n",
        "            y_prime = y + 1\n",
        "        elif a == Actions.UP:\n",
        "            y_prime = y - 1\n",
        "        elif a == Actions.UP_LEFT:\n",
        "            x_prime, y_prime = x - 1, y - 1\n",
        "        elif a == Actions.UP_RIGHT:\n",
        "            x_prime, y_prime = x + 1, y - 1\n",
        "        elif a == Actions.DOWN_LEFT:\n",
        "            x_prime, y_prime = x - 1, y + 1\n",
        "        elif a == Actions.DOWN_RIGHT:\n",
        "            x_prime, y_prime = x + 1, y + 1\n",
        "        elif a == Actions.ABSORB:\n",
        "            pass\n",
        "        else:\n",
        "            raise BaseException(\"undefined action {}\".format(a))\n",
        "\n",
        "        illegal = False\n",
        "        if x_prime < 0 or x_prime >= self.X or y_prime < 0 or y_prime >= self.Y:\n",
        "            illegal = True\n",
        "            s_prime = s\n",
        "        else:\n",
        "            s_prime = self.coor_to_state(x_prime, y_prime)\n",
        "            if self.is_blocked(s_prime):\n",
        "                illegal = True\n",
        "        return s_prime, illegal\n",
        "\n",
        "    def get_action(self, s, sp):\n",
        "        \"\"\"\n",
        "        Given two neighboring waypoints, return action between them.\n",
        "        Params:\n",
        "            s [int] -- First waypoint state.\n",
        "            sp [int] -- Next waypoint state.\n",
        "        Returns:\n",
        "            a [int] -- Action taken.\n",
        "        \"\"\"\n",
        "        x1, y1 = self.state_to_coor(s)\n",
        "        x2, y2 = self.state_to_coor(sp)\n",
        "\n",
        "        if x1 == x2:\n",
        "            if y1 == y2:\n",
        "                return Actions.ABSORB\n",
        "            elif y1 < y2:\n",
        "                return Actions.DOWN\n",
        "            else:\n",
        "                return Actions.UP\n",
        "        elif x1 < x2:\n",
        "            if y1 == y2:\n",
        "                return Actions.RIGHT\n",
        "            elif y1 < y2:\n",
        "                return Actions.DOWN_RIGHT\n",
        "            else:\n",
        "                return Actions.UP_RIGHT\n",
        "        else:\n",
        "            if y1 == y2:\n",
        "                return Actions.LEFT\n",
        "            elif y1 < y2:\n",
        "                return Actions.DOWN_LEFT\n",
        "            else:\n",
        "                return Actions.UP_LEFT\n",
        "\n",
        "    def is_blocked(self, s):\n",
        "        \"\"\"\n",
        "        Returns True if s is blocked.\n",
        "        By default, state-action pairs that lead to blocked states are illegal.\n",
        "        \"\"\"\n",
        "        if self.obstacles is None:\n",
        "            return False\n",
        "\n",
        "        # Check against internal representation of boxes.\n",
        "        x, y = self.state_to_coor(s)\n",
        "        for box in self.obstacles:\n",
        "            if x >= box[0][0] and x <= box[1][0] and y >= box[1][1] and y <= box[0][1]:\n",
        "                return True\n",
        "        return False\n",
        "\n",
        "    def visualize_grid(self):\n",
        "        \"\"\"\n",
        "        Visualize the world with its obstacles.\n",
        "        \"\"\"\n",
        "        self.visualize_demos([])\n",
        "\n",
        "    def visualize_demos(self, demos):\n",
        "        \"\"\"\n",
        "        Visualize the world with its obstacles and given demonstration.\n",
        "        \"\"\"\n",
        "        # Create world with obstacles on the map.\n",
        "        world = 0.5*np.ones((self.Y, self.X))\n",
        "\n",
        "        # Add obstacles in the world in opaque color.\n",
        "        for obstacle in self.obstacles:\n",
        "            lower = obstacle[0]\n",
        "            upper = obstacle[1]\n",
        "            world[upper[1]:lower[1]+1, lower[0]:upper[0]+1] = 1.0\n",
        "\n",
        "        fig1, ax1 = plt.subplots()\n",
        "        plt.imshow(world, cmap='Greys', interpolation='nearest')\n",
        "\n",
        "        # Plot markers for start and goal\n",
        "        plt.scatter(self.start[0], self.start[1], c=\"orange\", marker=\"o\", s=100)\n",
        "        for goal in self.goals:\n",
        "            plt.scatter(goal[0], goal[1], c=\"orange\", marker=\"x\", s=300)\n",
        "\n",
        "        # Plot demonstrations\n",
        "        for t, demo in enumerate(demos):\n",
        "            demo_x = []\n",
        "            demo_y = []\n",
        "            for s in demo:\n",
        "                x, y = self.state_to_coor(s)\n",
        "                demo_x.append(x)\n",
        "                demo_y.append(y)\n",
        "            step = t/float(len(demos)+1)\n",
        "            col = ((1*step), (0*step), (0*step))\n",
        "            plt.plot(demo_x,demo_y, c=col)\n",
        "\n",
        "        plt.xticks(range(self.X), range(self.X))\n",
        "        plt.yticks(np.arange(-0.5,self.Y+0.5),range(self.Y+1))\n",
        "        ax1.set_yticklabels([])\n",
        "        ax1.set_xticklabels([])\n",
        "        ax1.set_yticks([])\n",
        "        ax1.set_xticks([])\n",
        "        ax = plt.gca()\n",
        "        plt.minorticks_on\n",
        "        ax.grid(True, which='both', color='black', linestyle='-', linewidth=2)\n",
        "        plt.show(block=False)\n",
        "\n",
        "\n",
        "    #################################\n",
        "    # Conversion functions\n",
        "    #################################\n",
        "    # Helper functions convert between state number (\"state\") and discrete coordinates (\"coor\").\n",
        "    #\n",
        "    # State number (\"state\"):\n",
        "    # A state `s` is an integer such that 0 <= s < self.S.\n",
        "    #\n",
        "    # Discrete coordinates (\"coor\"):\n",
        "    # `x` is an integer such that 0 <= x < self.X. Increasing `x` corresponds to moving east.\n",
        "    # `y` is an integer such that 0 <= y < self.Y. Increasing `y` corresponds to moving south.\n",
        "    #\n",
        "    #################################\n",
        "\n",
        "    def state_to_coor(self, s):\n",
        "        \"\"\"\n",
        "        Params:\n",
        "            s [int] -- The state.\n",
        "        Returns:\n",
        "            x, y -- The discrete coordinates corresponding to s.\n",
        "        \"\"\"\n",
        "        assert isinstance(s, int)\n",
        "        assert 0 <= s < self.S\n",
        "        y = s % self.Y\n",
        "        x = s // self.Y\n",
        "        return x, y\n",
        "\n",
        "    def coor_to_state(self, x, y):\n",
        "        \"\"\"\n",
        "        Convert discrete coordinates into a state, if that state exists.\n",
        "        If no such state exists, raise a ValueError.\n",
        "        Params:\n",
        "            x, y [int] -- The discrete x, y coordinates of the state.\n",
        "        Returns:\n",
        "            s [int] -- The state.\n",
        "        \"\"\"\n",
        "\n",
        "        x, y = int(x), int(y)\n",
        "        if not(0 <= x < self.X):\n",
        "            raise ValueError(x, self.X)\n",
        "        if not (0 <= y < self.Y):\n",
        "            raise ValueError(y, self.Y)\n",
        "\n",
        "        return (x * self.Y) + (y)\n"
      ]
    },
    {
      "cell_type": "markdown",
      "metadata": {
        "id": "P5Q9-gKm-9Co"
      },
      "source": [
        "## Construct a Gridworld (Markov Decision Process)\n",
        "\n",
        "\n",
        "Let's create a 6x8 grid world with 2 obstacles. For now, let's set the start in the lower left corner and a goal in the upper right corner.\n",
        "\n",
        "### The code is provided for this so, just run the cell below."
      ]
    },
    {
      "cell_type": "code",
      "execution_count": null,
      "metadata": {
        "colab": {
          "base_uri": "https://localhost:8080/",
          "height": 406
        },
        "id": "tf0B-q7y-9Co",
        "outputId": "de99c604-d8ea-48ff-eb40-42ede8c084a7"
      },
      "outputs": [
        {
          "output_type": "display_data",
          "data": {
            "text/plain": [
              "<Figure size 640x480 with 1 Axes>"
            ],
            "image/png": "[encoded data removed]"
          },
          "metadata": {}
        }
      ],
      "source": [
        "# Build grid world.\n",
        "sim_height = 6\n",
        "sim_width = 8\n",
        "obstacles = [[[1,1], [1,1]] , [[4,3],[4,3]]]\n",
        "start = [0, 5]\n",
        "goals = [[7, 0]]\n",
        "gridworld = AgentGridworld(sim_width, sim_height, obstacles, start, goals)\n",
        "gridworld.visualize_grid()"
      ]
    },
    {
      "cell_type": "markdown",
      "metadata": {
        "id": "NgwYzna2-9Co"
      },
      "source": [
        "Something that will become very important later on is a set of all of the feasible trajectories of fixed length between the start and goal, $\\xi\\in\\Xi$:\n",
        "\n",
        "Just run the cell below."
      ]
    },
    {
      "cell_type": "code",
      "execution_count": null,
      "metadata": {
        "id": "cv53VtaE-9Co"
      },
      "outputs": [],
      "source": [
        "SG_trajs = gridworld.traj_construct(start, goals[0])"
      ]
    },
    {
      "cell_type": "markdown",
      "metadata": {
        "id": "Mp7DsHls-9Co"
      },
      "source": [
        "Let's take a look at one of the trajectories."
      ]
    },
    {
      "cell_type": "code",
      "execution_count": null,
      "metadata": {
        "colab": {
          "base_uri": "https://localhost:8080/",
          "height": 406
        },
        "id": "HFYTNVfW-9Co",
        "outputId": "5443ffb0-8334-4e10-c8ab-6ebb7697a8e9"
      },
      "outputs": [
        {
          "output_type": "display_data",
          "data": {
            "text/plain": [
              "<Figure size 640x480 with 1 Axes>"
            ],
            "image/png": "[encoded data removed]"
          },
          "metadata": {}
        }
      ],
      "source": [
        "gridworld.visualize_demos([SG_trajs[0]])"
      ]
    },
    {
      "cell_type": "markdown",
      "metadata": {
        "id": "7YK46djJ-9Co"
      },
      "source": [
        "## (a) TODO (5 points): Visualize and count the set of feasible trajectories between start and goal.\n",
        "\n",
        "HINT: Recall that we ran the following line of code to construct feasible trajectories from start to goal.\n",
        "\n",
        "\n",
        "```\n",
        "# SG_trajs = gridworld.traj_construct(start, goals[0])\n",
        "```\n",
        "\n",
        "To visualize trajectories (aka. demos), we need to call\n",
        "\n",
        "```\n",
        "# gridworld.visualize_demos()\n",
        "```\n",
        "with the list of demos we want to visualize.\n",
        "\n"
      ]
    },
    {
      "cell_type": "code",
      "execution_count": null,
      "metadata": {
        "id": "6FPPA_IF-9Co",
        "colab": {
          "base_uri": "https://localhost:8080/",
          "height": 406
        },
        "outputId": "c2d3fe3a-60a2-463a-d91e-055e3538a57c"
      },
      "outputs": [
        {
          "output_type": "display_data",
          "data": {
            "text/plain": [
              "<Figure size 640x480 with 1 Axes>"
            ],
            "image/png": "[encoded data removed]"
          },
          "metadata": {}
        }
      ],
      "source": [
        "gridworld.visualize_demos(SG_trajs)"
      ]
    },
    {
      "cell_type": "markdown",
      "source": [
        "## (a) TODO (5 points) How many feasible trajectories exist between start and goal? ______\n",
        "\n",
        "Hint: Compute the length of\n",
        "\n",
        "\n",
        "```\n",
        "SG_trajs\n",
        "```\n",
        "\n"
      ],
      "metadata": {
        "id": "IO8WW5MvBD6N"
      }
    },
    {
      "cell_type": "code",
      "source": [
        "len(SG_trajs)"
      ],
      "metadata": {
        "id": "pYPcLwNQGTre",
        "outputId": "dfe645c2-4b67-49fe-ed81-f36fc64afdd5",
        "colab": {
          "base_uri": "https://localhost:8080/"
        }
      },
      "execution_count": null,
      "outputs": [
        {
          "output_type": "execute_result",
          "data": {
            "text/plain": [
              "457"
            ]
          },
          "metadata": {},
          "execution_count": 26
        }
      ]
    },
    {
      "cell_type": "markdown",
      "metadata": {
        "id": "O-VBZzbG-9Co"
      },
      "source": [
        "# Simulated Human\n",
        "Now let's create a simulated human to produce some demonstrations that our agent will learn from. The human has access to the grid world, and, therefore, to the trajectories $\\xi\\in\\Xi$ that are feasible in the grid world, but we need to implement a way of selecting amongst those trajectories. We need two components for this: a <b>cost function</b>, and an <b>observation model</b>."
      ]
    },
    {
      "cell_type": "markdown",
      "metadata": {
        "id": "Z2OA6YEK-9Co"
      },
      "source": [
        "#### The Cost Function\n",
        "The cost function $C : \\Xi \\rightarrow \\mathbb{R}$ maps trajectories to a real-numbered score and defines how much the human prefers some trajectories in the grid world over the others. To make computation tractable, this cost function is typically parameterized by some *weight vector* $\\theta$: $C_\\theta$. While the cost could operate directly on the state trajectory, it is more common (also for tractability's sake) to write it as a function of *features* $\\Phi : \\Xi \\rightarrow \\mathbb{R}^n$ - aspects of behavior that the person might care about. For example, the feature vector of a trajectory $\\Phi(\\xi)$ could be the trajectory's total distance to an obstacle, its jerk, its average $x$ coordinate, etc. In class, we saw the cost written as a linear combination of features $C_\\theta = \\theta^T\\Phi$, and we'll use this same cost structure in the homework."
      ]
    },
    {
      "cell_type": "markdown",
      "metadata": {
        "id": "bMuC9LSh-9Co"
      },
      "source": [
        "We can think of $\\theta$ as a parameter that determines how much the human prioritizes certain features over others. We will play with different weight vectors $\\theta$ later on and see how that affects the demonstrations produced. Before we do this, **we need to define what features $\\Phi$ matter to the simulated human we're creating**. The implementation below already defines some example features;\n",
        "## (b) TODO (20 points): <b>fill in the `dist_to_goals` function</b>,\n",
        "which should implement a Euclidean distance to all **goals** in the environment.\n",
        "\n",
        "<b>The `dist_to_obstacles` function has been done for you</b>,\n",
        "which implements a Euclidean distance to all obstacles in the environment."
      ]
    },
    {
      "cell_type": "code",
      "source": [
        "# Take a quick look at obstacles\n",
        "gridworld.obstacles"
      ],
      "metadata": {
        "colab": {
          "base_uri": "https://localhost:8080/"
        },
        "id": "bO1ep2LtEDgo",
        "outputId": "f49c3922-99de-4838-b2c5-e01f3c3343a8"
      },
      "execution_count": null,
      "outputs": [
        {
          "output_type": "execute_result",
          "data": {
            "text/plain": [
              "[[[1, 1], [1, 1]], [[4, 3], [4, 3]]]"
            ]
          },
          "metadata": {},
          "execution_count": 27
        }
      ]
    },
    {
      "cell_type": "code",
      "source": [
        "# Take a quick look at goals\n",
        "gridworld.goals"
      ],
      "metadata": {
        "colab": {
          "base_uri": "https://localhost:8080/"
        },
        "id": "YnUhB-bnFEf6",
        "outputId": "e736606a-63b1-4e96-d2ae-453db54a43a3"
      },
      "execution_count": null,
      "outputs": [
        {
          "output_type": "execute_result",
          "data": {
            "text/plain": [
              "[[7, 0]]"
            ]
          },
          "metadata": {},
          "execution_count": 28
        }
      ]
    },
    {
      "cell_type": "code",
      "execution_count": null,
      "metadata": {
        "id": "yYOrn8cS-9Co"
      },
      "outputs": [],
      "source": [
        "#################################\n",
        "#### Featurization functions ####\n",
        "#################################\n",
        "\n",
        "####### Obstacles Feature #######\n",
        "\n",
        "def obstacles_feature(traj):\n",
        "    \"\"\"\n",
        "    Compute obstacle feature values for all obstacles and the entire trajectory.\n",
        "    The obstacle feature consists of distance from the obstacle.\n",
        "    Params:\n",
        "        traj [list] -- The trajectory.\n",
        "    Returns:\n",
        "        obstacle_feat [list] -- A list of obstacle features per obstacle.\n",
        "    \"\"\"\n",
        "    obstacle_feat = np.zeros(len(gridworld.obstacles))\n",
        "    for s in traj:\n",
        "        obstacle_feat += np.asarray(dist_to_obstacles(s))\n",
        "    return obstacle_feat.tolist()\n",
        "\n",
        "def dist_to_obstacles(s):\n",
        "    \"\"\"\n",
        "    Compute distance from state s to the obstacles in the environment.\n",
        "    Params:\n",
        "        s [int] -- The state.\n",
        "    Returns:\n",
        "        distances [list] -- The distance to the obstacles in the environment.\n",
        "    \"\"\"\n",
        "    x, y = gridworld.state_to_coor(s)\n",
        "    distances = []\n",
        "\n",
        "    # Compute delta x and delta y in distance from obstacle\n",
        "    for obstacle in gridworld.obstacles:\n",
        "        # THIS PART HAS BEEN PROVIDED FOR YOU:\n",
        "        dx = min(abs(x - obstacle[0][0]), abs(x - obstacle[1][0]))\n",
        "        dy = min(abs(y - obstacle[0][1]), abs(y - obstacle[1][1]))\n",
        "        dist = np.linalg.norm([dx, dy])\n",
        "        ################\n",
        "        distances.append(dist)\n",
        "    return distances\n",
        "\n",
        "####### Goal Feature #######\n",
        "\n",
        "def goals_feature(traj):\n",
        "    \"\"\"\n",
        "    Compute goal feature values for all goals and the entire traj.\n",
        "    The goal feature consists of distance from the obstacle.\n",
        "    Params:\n",
        "        traj [list] -- The trajectory.\n",
        "    Returns:\n",
        "        goal_feat [list] -- The distance to the goals in the environment.\n",
        "    \"\"\"\n",
        "    goal_feat = np.zeros(len(gridworld.goals))\n",
        "    for s in traj:\n",
        "        goal_feat += np.asarray(dist_to_goals(s))\n",
        "    return goal_feat.tolist()\n",
        "\n",
        "def dist_to_goals(s):\n",
        "    \"\"\"\n",
        "    Compute distance from state s to the goal in the environment.\n",
        "    Params:\n",
        "        s [int] -- The state.\n",
        "    Returns:\n",
        "        distance [float] -- The distance to the goals in the environment.\n",
        "    \"\"\"\n",
        "    x, y = gridworld.state_to_coor(s)\n",
        "    distances = []\n",
        "#\n",
        "    for goal in gridworld.goals:\n",
        "        ####\n",
        "        # FILL IN THIS PART HERE\n",
        "        dist = np.sqrt((goal[0]-x) ** 2 + (goal[1]-y)**2)\n",
        "\n",
        "        distances.append(dist)\n",
        "    return distances\n",
        "\n",
        "####### Coordinate Features #######\n",
        "\n",
        "def average_x_feature(traj):\n",
        "    \"\"\"\n",
        "    Compute average x feature value for the entire trajectory.\n",
        "    Params:\n",
        "        traj [list] -- The trajectory.\n",
        "    Returns:\n",
        "        avgx_feat [float] -- The average x feature value for entire traj.\n",
        "    \"\"\"\n",
        "    x_coords = [gridworld.state_to_coor(s)[0] for s in traj]\n",
        "    return np.mean(x_coords)\n",
        "\n",
        "def average_y_feature(traj):\n",
        "    \"\"\"\n",
        "    Compute average y feature value for the entire trajectory.\n",
        "    Params:\n",
        "        traj [list] -- The trajectory.\n",
        "    Returns:\n",
        "        avgy_feat [float] -- The average y feature value for entire traj.\n",
        "    \"\"\"\n",
        "    y_coords = [gridworld.state_to_coor(s)[1] for s in traj]\n",
        "    return np.mean(y_coords)\n",
        "\n",
        "\n",
        "####### Utils #######\n",
        "\n",
        "def featurize(traj, feat_list, scaling_coeffs=None):\n",
        "    \"\"\"\n",
        "    Computes the user-defined features for a given trajectory.\n",
        "    Params:\n",
        "        traj [list] -- A list of states the trajectory goes through.\n",
        "    Returns:\n",
        "        features [array] -- A list of feature values.\n",
        "    \"\"\"\n",
        "    features = []\n",
        "    for feat in range(len(feat_list)):\n",
        "        if feat_list[feat] == 'goals':\n",
        "            features.extend(goals_feature(traj))\n",
        "        elif feat_list[feat] == 'obstacles':\n",
        "            features.extend(obstacles_feature(traj))\n",
        "        elif feat_list[feat] == 'avgx':\n",
        "            features.append(average_x_feature(traj))\n",
        "        elif feat_list[feat] == 'avgy':\n",
        "            features.append(average_y_feature(traj))\n",
        "    if scaling_coeffs is not None:\n",
        "        for feat in range(len(features)):\n",
        "            features[feat] = (features[feat] - scaling_coeffs[feat][\"min\"]) / (scaling_coeffs[feat][\"max\"] - scaling_coeffs[feat][\"min\"])\n",
        "    return np.asarray(features)\n",
        "\n",
        "def feat_scale_construct(feat_list):\n",
        "    \"\"\"\n",
        "    Construct scaling constants for the features available.\n",
        "    \"\"\"\n",
        "    # First featurize all trajectories with non-standard features.\n",
        "    Phi_nonstd = np.array([featurize(xi, feat_list) for xi in SG_trajs])\n",
        "\n",
        "    # Compute scaling coefficients depending on what feat_scaling is\n",
        "    scaling_coeffs = []\n",
        "    for Phi in Phi_nonstd.T:\n",
        "        min_val = min(Phi)\n",
        "        max_val = max(Phi)\n",
        "        coeffs = {\"min\": min_val, \"max\": max_val}\n",
        "        scaling_coeffs.append(coeffs)\n",
        "    return scaling_coeffs\n",
        "\n",
        "def visualize_feature(feat_vals, idx):\n",
        "    \"\"\"\n",
        "    Visualize the world with its obstacles and given demonstration.\n",
        "    \"\"\"\n",
        "    # Create world with obstacles on the map.\n",
        "    world = np.ones((gridworld.Y, gridworld.X))\n",
        "    for s in range(gridworld.S):\n",
        "        x, y = gridworld.state_to_coor(s)\n",
        "        world[y][x] = feat_vals[s][idx]\n",
        "\n",
        "    # Add obstacles in the world in opaque color.\n",
        "    for obstacle in gridworld.obstacles:\n",
        "        lower = obstacle[0]\n",
        "        upper = obstacle[1]\n",
        "        world[upper[1]:lower[1]+1, lower[0]:upper[0]+1] = 10.0\n",
        "\n",
        "    fig1, ax1 = plt.subplots()\n",
        "    plt.imshow(world, cmap='Greys', interpolation='nearest')\n",
        "\n",
        "    # Plot markers for start and goal\n",
        "    plt.scatter(gridworld.start[0], gridworld.start[1], c=\"orange\", marker=\"o\", s=100)\n",
        "    for goal in gridworld.goals:\n",
        "        plt.scatter(goal[0], goal[1], c=\"orange\", marker=\"x\", s=300)\n",
        "\n",
        "    plt.xticks(range(gridworld.X), range(gridworld.X))\n",
        "    plt.yticks(np.arange(-0.5,gridworld.Y+0.5),range(gridworld.Y+1))\n",
        "    ax1.set_yticklabels([])\n",
        "    ax1.set_xticklabels([])\n",
        "    ax1.set_yticks([])\n",
        "    ax1.set_xticks([])\n",
        "    ax = plt.gca()\n",
        "    plt.minorticks_on\n",
        "    ax.grid(True, which='both', color='black', linestyle='-', linewidth=2)\n",
        "    plt.show(block=False)"
      ]
    },
    {
      "cell_type": "markdown",
      "metadata": {
        "id": "bYrU5Sh8-9Co"
      },
      "source": [
        "Now let's visualize each feature to make sure your implementation is correct."
      ]
    },
    {
      "cell_type": "code",
      "execution_count": null,
      "metadata": {
        "colab": {
          "base_uri": "https://localhost:8080/",
          "height": 406
        },
        "id": "33LWrHFc-9Cp",
        "outputId": "d00b54bd-4269-4f5e-b034-bb77886190f2"
      },
      "outputs": [
        {
          "output_type": "display_data",
          "data": {
            "text/plain": [
              "<Figure size 640x480 with 1 Axes>"
            ],
            "image/png": "[encoded data removed]"
          },
          "metadata": {}
        }
      ],
      "source": [
        "# Left obstacle. You should see the cells get darker the farther they are from the left obstacle.\n",
        "feat_list = [\"obstacles\"]\n",
        "state_feat_vals = [featurize([s], feat_list) for s in range(gridworld.S)]\n",
        "visualize_feature(state_feat_vals, 0)"
      ]
    },
    {
      "cell_type": "code",
      "execution_count": null,
      "metadata": {
        "colab": {
          "base_uri": "https://localhost:8080/",
          "height": 406
        },
        "id": "1unpGXf4-9Cp",
        "outputId": "090543f9-e534-4fa6-de49-f2c881abd2e1"
      },
      "outputs": [
        {
          "output_type": "display_data",
          "data": {
            "text/plain": [
              "<Figure size 640x480 with 1 Axes>"
            ],
            "image/png": "[encoded data removed]"
          },
          "metadata": {}
        }
      ],
      "source": [
        "# Right obstacle. You should see the cells get darker the farther they are from the right obstacle.\n",
        "feat_list = [\"obstacles\"]\n",
        "state_feat_vals = [featurize([s], feat_list) for s in range(gridworld.S)]\n",
        "visualize_feature(state_feat_vals, 1)"
      ]
    },
    {
      "cell_type": "code",
      "execution_count": null,
      "metadata": {
        "colab": {
          "base_uri": "https://localhost:8080/",
          "height": 406
        },
        "id": "mzIWcIiq-9Cp",
        "outputId": "dc32c3df-e849-4730-dc7a-babb059264ea"
      },
      "outputs": [
        {
          "output_type": "display_data",
          "data": {
            "text/plain": [
              "<Figure size 640x480 with 1 Axes>"
            ],
            "image/png": "[encoded data removed]"
          },
          "metadata": {}
        }
      ],
      "source": [
        "# Goal. You should see the cells get darker the farther they are from the goal.\n",
        "feat_list = [\"goals\"]\n",
        "state_feat_vals = [featurize([s], feat_list) for s in range(gridworld.S)]\n",
        "visualize_feature(state_feat_vals, 0)"
      ]
    },
    {
      "cell_type": "markdown",
      "metadata": {
        "id": "CwKF-aIt-9Cp"
      },
      "source": [
        "# The Observation Model\n",
        "In class, we learned about the IRL observation model - the Boltzmann model - where trajectories are chosen in proportion to their exponentiated negative cost: $$P(\\xi\\mid\\theta) = \\frac{e^{-\\beta\\theta^T\\Phi(\\xi)}}{\\sum_{\\bar\\xi \\in \\Xi} e^{-\\beta\\theta^T\\Phi(\\bar\\xi)}} \\enspace .$$\n",
        "\n",
        "Here, $\\beta$ is an inverse temperature parameter that controls how rational or noisy the human is when giving demonstrations: high $\\beta$s produce demonstrations closer to optimal, while lower ones produce noisier demonstrations."
      ]
    },
    {
      "cell_type": "markdown",
      "metadata": {
        "id": "H7xFRGgV-9Cp"
      },
      "source": [
        "We will now implement the Boltzmann noisy rationality model for a given $\\theta$ and $\\beta$.\n",
        "## (c) TODO (20 points): <b>Fill in the `observation_model` function below</b>, assuming that $\\Phi(\\xi)$ and $\\Phi(\\bar\\xi),\\forall \\bar\\xi\\in\\Xi$ are passed in already as arguments."
      ]
    },
    {
      "cell_type": "code",
      "execution_count": null,
      "metadata": {
        "id": "APJZ9BiS-9Cp"
      },
      "outputs": [],
      "source": [
        "def observation_model(Phi_xi, Phi_xibar, theta, beta):\n",
        "    \"\"\"\n",
        "    Finds observation model for given demonstrated features, using initialized model.\n",
        "    Params:\n",
        "        Phi_xi [array] -- The cost features for an observed trajectory.\n",
        "        Phi_xibar [list] -- A list of the cost features for all trajectories in the grid.\n",
        "        theta [list] -- The preference parameter.\n",
        "        beta [float] -- The rationality coefficient.\n",
        "    Returns:\n",
        "        P_xi_bt [float] -- P(xi | theta, beta)\n",
        "    \"\"\"\n",
        "    #####\n",
        "    # YOUR CODE HERE\n",
        "    C_xi = -beta * np.dot(Phi_xi, theta)\n",
        "    C_xi_bar = [-beta * np.dot(Phi_x, theta) for Phi_x in Phi_xibar]\n",
        "    P_xi_bt = np.exp(C_xi)/sum(np.exp(C_xi_bar))\n",
        "\n",
        "\n",
        "    ################\n",
        "    return P_xi_bt"
      ]
    },
    {
      "cell_type": "markdown",
      "metadata": {
        "id": "zJg1kE2R-9Cp"
      },
      "source": [
        "Given the cost model and the observation model, the simulated human can now sample demonstrations. The function below does this by generating the feature vector for all $\\xi \\in \\Xi$, computing the Boltzmann probability for all of them, and sampling according to those probabilities."
      ]
    },
    {
      "cell_type": "code",
      "execution_count": null,
      "metadata": {
        "id": "Dpj4aqaC-9Cp"
      },
      "outputs": [],
      "source": [
        "def sample_demonstrations(theta, beta, samples):\n",
        "    \"\"\"\n",
        "    Sample <samples> demonstrations for a given theta and beta.\n",
        "    Params:\n",
        "        theta [list] -- The preference parameter.\n",
        "        beta [float] -- The rationality coefficient.\n",
        "        samples [int] -- Number of demonstrations to be sampled.\n",
        "    \"\"\"\n",
        "    # Generate feature values for all trajectories in the gridworld.\n",
        "    Phi_xibar = [featurize(xi, feat_list, scaling_coeffs) for xi in SG_trajs]\n",
        "\n",
        "    # Create the xi observation model for all trajectories.\n",
        "    P_xi = [observation_model(Phi, Phi_xibar, theta, beta) for Phi in Phi_xibar]\n",
        "\n",
        "    # Sample <samples> trajectories using this distribution.\n",
        "    traj_idx = np.random.choice(len(P_xi), samples, p=P_xi)\n",
        "\n",
        "    # Return trajectories given by traj_idx\n",
        "    return [SG_trajs[i] for i in traj_idx]"
      ]
    },
    {
      "cell_type": "markdown",
      "metadata": {
        "id": "IoxnklFK-9Cp"
      },
      "source": [
        "## Playing around with various \"humans\".\n",
        "\n",
        "Now we're ready to create the simulated human and sample demonstrations. Let's say our human cares about the distances to the obstacles in the environment, and let's see how varying $\\theta$ and $\\beta$ changes their demonstrations."
      ]
    },
    {
      "cell_type": "markdown",
      "metadata": {
        "id": "W0R_RPKA-9Cp"
      },
      "source": [
        "### (d) TODO (10 points): Changing Beta: Let's try with an optimal (high $\\beta$=1000) simulated human.\n",
        "\n",
        "<b>Change the $\\beta$ parameter below</b> to create a human that almost always produces the optimal trajectory (pick a $\\beta$ that doesn't make the Python floating point system overflow, i.e. $|\\beta| \\leq 1000$)."
      ]
    },
    {
      "cell_type": "code",
      "execution_count": null,
      "metadata": {
        "id": "0OLosrHO-9Cp",
        "colab": {
          "base_uri": "https://localhost:8080/",
          "height": 406
        },
        "outputId": "be735b71-1d57-4c4c-e528-983aa655af0d"
      },
      "outputs": [
        {
          "output_type": "display_data",
          "data": {
            "text/plain": [
              "<Figure size 640x480 with 1 Axes>"
            ],
            "image/png": "[encoded data removed]"
          },
          "metadata": {}
        }
      ],
      "source": [
        "# Define parameters for simulated human.\n",
        "feat_list = [\"obstacles\"]\n",
        "num_features = 2\n",
        "scaling_coeffs = feat_scale_construct(feat_list) # Used for normalizing feature values.\n",
        "real_theta = np.array([1.0, 1.0])\n",
        "num_demos = 10\n",
        "\n",
        "# YOUR CODE HERE: TODO: Set beta high\n",
        "real_beta = 500\n",
        "\n",
        "# Wants to stay close to both obstacles.\n",
        "demos = sample_demonstrations(real_theta, real_beta, num_demos)\n",
        "gridworld.visualize_demos(demos)"
      ]
    },
    {
      "cell_type": "markdown",
      "metadata": {
        "id": "05k_j2Dy-9Cp"
      },
      "source": [
        "### (d) TODO (10 points): Changing Beta: Let's try with a noisy (low $\\beta$=1000) simulated human.\n",
        "\n",
        "Now <b>change the $\\beta$ parameter below</b> to create a human that essentially picks trajectories randomly (pick a $\\beta$ that doesn't make the Python floating point system overflow, i.e. $|\\beta| \\leq 1000$)."
      ]
    },
    {
      "cell_type": "code",
      "execution_count": null,
      "metadata": {
        "id": "C4PwtGDM-9Cp",
        "colab": {
          "base_uri": "https://localhost:8080/",
          "height": 406
        },
        "outputId": "240a2704-6507-4c93-c23f-e744021ed5e3"
      },
      "outputs": [
        {
          "output_type": "display_data",
          "data": {
            "text/plain": [
              "<Figure size 640x480 with 1 Axes>"
            ],
            "image/png": "[encoded data removed]"
          },
          "metadata": {}
        }
      ],
      "source": [
        "# Define parameters for simulated human.\n",
        "feat_list = [\"obstacles\"]\n",
        "num_features = 2\n",
        "scaling_coeffs = feat_scale_construct(feat_list) # Used for normalizing feature values.\n",
        "real_theta = np.array([1.0, 1.0])\n",
        "num_demos = 10\n",
        "\n",
        "# YOUR CODE HERE: TODO: Set beta low\n",
        "real_beta = 2\n",
        "\n",
        "# Wants to stay close to both obstacles.\n",
        "demos = sample_demonstrations(real_theta, real_beta, num_demos)\n",
        "gridworld.visualize_demos(demos)"
      ]
    },
    {
      "cell_type": "markdown",
      "metadata": {
        "id": "6hnvmAjK-9Cp"
      },
      "source": [
        "We can see that low values of $\\beta$ lead to more noisy human trajectories. Since $\\theta$ remains the same, the human cares to minimize distance to both obstacles."
      ]
    },
    {
      "cell_type": "markdown",
      "source": [
        "### (d) TODO (5 points): In this GridWorld environment, what is the difference in the behaviors of the demonstrations when $\\beta$ is high versus when $\\beta$ is low?\n",
        "\n",
        "Write your response in the cell below."
      ],
      "metadata": {
        "id": "nk6umODbKeZc"
      }
    },
    {
      "cell_type": "markdown",
      "source": [
        "When beta is high, it shows the optimal behavior. The simulated human would follow the path that is nearly equal to their preference and would be taking an efficient path. On the other hand, when the beta is low, the simulated human takes multiple different paths. Also the ones that are not very efficient. Overall, beta is the controling factor of the rationality where higher beta value is optimum and lower beta value is towards more randomness."
      ],
      "metadata": {
        "id": "5iw2Z37sKtxJ"
      }
    },
    {
      "cell_type": "markdown",
      "metadata": {
        "id": "fqgDdneh-9Cp"
      },
      "source": [
        "## Now, we can see that if we change $\\theta$ = [1,0], the simulated human wants to stay close to left obstacle, doesn't care about the other one."
      ]
    },
    {
      "cell_type": "code",
      "execution_count": null,
      "metadata": {
        "id": "aFIBCBlF-9Cp",
        "colab": {
          "base_uri": "https://localhost:8080/",
          "height": 406
        },
        "outputId": "2a2d2a42-4b4a-4a90-a806-9502c217b2a4"
      },
      "outputs": [
        {
          "output_type": "display_data",
          "data": {
            "text/plain": [
              "<Figure size 640x480 with 1 Axes>"
            ],
            "image/png": "[encoded data removed]"
          },
          "metadata": {}
        }
      ],
      "source": [
        "# Wants to stay close to left obstacle, doesn't care about the other one.\n",
        "demos = sample_demonstrations(np.array([1.0, 0.0]), 10.0, 100)\n",
        "gridworld.visualize_demos(demos)"
      ]
    },
    {
      "cell_type": "markdown",
      "metadata": {
        "id": "aXVu7w2D-9Cq"
      },
      "source": [
        "## Now, we can see that if we change $\\theta$ = [-1,1], the simulated human wants to stay far away from the left obstacle, and close to the other one."
      ]
    },
    {
      "cell_type": "code",
      "execution_count": null,
      "metadata": {
        "id": "LdkOnpxl-9Cq",
        "colab": {
          "base_uri": "https://localhost:8080/",
          "height": 406
        },
        "outputId": "ef236f3c-9ddb-43b6-dc21-07a86cc39b3a"
      },
      "outputs": [
        {
          "output_type": "display_data",
          "data": {
            "text/plain": [
              "<Figure size 640x480 with 1 Axes>"
            ],
            "image/png": "[encoded data removed]"
          },
          "metadata": {}
        }
      ],
      "source": [
        "# Wants to stay far from the left obstacle, close to the other one.\n",
        "demos = sample_demonstrations(np.array([-1.0, 1.0]), 10.0, 100)\n",
        "gridworld.visualize_demos(demos)"
      ]
    },
    {
      "cell_type": "markdown",
      "metadata": {
        "id": "KXR2Mpsn-9Cq"
      },
      "source": [
        "## Now, we can see that if we change $\\theta$ = [-1,0], the simulated human wants to stay far away from the left obstacle, and doesn't care about the other one."
      ]
    },
    {
      "cell_type": "code",
      "execution_count": null,
      "metadata": {
        "id": "Wp5QhMMl-9Cq",
        "colab": {
          "base_uri": "https://localhost:8080/",
          "height": 406
        },
        "outputId": "87e9c8e7-fb6e-4f7e-dbc5-350824ef1e84"
      },
      "outputs": [
        {
          "output_type": "display_data",
          "data": {
            "text/plain": [
              "<Figure size 640x480 with 1 Axes>"
            ],
            "image/png": "[encoded data removed]"
          },
          "metadata": {}
        }
      ],
      "source": [
        "# Wants to stay far from the left obstacle, doesn't care about the other one.\n",
        "demos = sample_demonstrations(np.array([-1.0, 0.0]), 10.0, 100)\n",
        "gridworld.visualize_demos(demos)"
      ]
    },
    {
      "cell_type": "markdown",
      "metadata": {
        "id": "73w1KWri-9Cq"
      },
      "source": [
        "# Intent Inference: Learning from Demonstrations"
      ]
    },
    {
      "cell_type": "markdown",
      "metadata": {
        "id": "wbJVrGws-9Cx"
      },
      "source": [
        "Now that we have some demonstrations from the simulated human, we want to infer just by observing their behavior how they chose that particular motion, i.e. what $\\theta$ and $\\beta$ parameters they used to generate demonstrations. This is the typical Inverse Reinforcement Learning (IRL) problem, which seeks to explain an observed demonstration by uncovering the demonstrator’s unknown objective function. We're going to implement Bayesian IRL to do so: $$P(\\theta \\mid\\xi) = \\frac{P(\\xi\\mid\\theta)P(\\theta)}{\\sum_{\\bar\\theta}P(\\xi\\mid\\bar\\theta)P(\\bar\\theta)} \\enspace.$$"
      ]
    },
    {
      "cell_type": "markdown",
      "metadata": {
        "id": "oP8ByMSX-9Cx"
      },
      "source": [
        "From the discussion in class, remember that Bayesian IRL is intractable because the summation (integral) is infeasible to compute over continuous spaces. To make it tractable, we discretize the possible set of $\\theta$ values.\n",
        "\n",
        "To make this even simpler, we will assume we are learning from a rational human. $\\beta=100$"
      ]
    },
    {
      "cell_type": "code",
      "execution_count": null,
      "metadata": {
        "id": "n1Hceu1R-9Cx"
      },
      "outputs": [],
      "source": [
        "# Inference parameters\n",
        "theta_vals =  [-1.0, 0.0, 1.0]\n",
        "betas = [100.0]\n",
        "thetas = list(iter.product(theta_vals, repeat=num_features))\n",
        "if (0.0,)*num_features in thetas:\n",
        "    thetas.remove((0.0,)*num_features)\n",
        "thetas = [w / np.linalg.norm(w) for w in thetas]\n",
        "thetas = set([tuple(i) for i in thetas])\n",
        "thetas = [list(i) for i in thetas]"
      ]
    },
    {
      "cell_type": "markdown",
      "metadata": {
        "id": "MjKm_cgZ-9Cx"
      },
      "source": [
        "Given the discrete sets of possible $\\theta$ and $\\beta$ values, as well as the already computed feature vectors for $N$ demonstrations,\n",
        "\n",
        "## (e) TODO (20 points): <b>fill in the `inference` function below</b> to perform discrete Bayesian inference.\n",
        "\n",
        "We provide a uniform prior over $\\theta$ and $\\beta$ that you should use. Hint: use the `observation_model` function you wrote earlier for each demonstration."
      ]
    },
    {
      "cell_type": "code",
      "execution_count": null,
      "metadata": {
        "id": "17a4kIwm-9Cx"
      },
      "outputs": [],
      "source": [
        "def inference(Phi_xis, thetas, betas):\n",
        "    \"\"\"\n",
        "    Performs inference from given demonstrated features, using initialized model.\n",
        "    Params:\n",
        "        Phi_xis [list] -- A list of the cost features for observed trajectories.\n",
        "        thetas [list] -- Possible theta vectors.\n",
        "        betas [list] -- Possible beta values.\n",
        "    Returns:\n",
        "        P_bt [array] -- Posterior probability P(beta, theta | xi_1...xi_N)\n",
        "    \"\"\"\n",
        "    prior = np.ones((len(betas), len(thetas))) / (len(betas) * len(thetas))\n",
        "\n",
        "    # Generate feature values for all trajectories in the gridworld.\n",
        "    Phi_xibar = [featurize(xi, feat_list, scaling_coeffs) for xi in SG_trajs]\n",
        "\n",
        "    # Calculate P(xi | theta, beta)\n",
        "    P_xi_bt = np.ones((len(betas), len(thetas)))\n",
        "    for b, beta in enumerate(betas):\n",
        "        for t, theta in enumerate(thetas):\n",
        "            # YOUR CODE HERE\n",
        "            # HINT: access probability of xi given theta, and our one beta\n",
        "            # with P_xi_bt[b][t]\n",
        "\n",
        "            # HINT: P_xi_bt[b][t] is initialized as ones. But we just need to set\n",
        "            # it equal to observation_model(Phi_xi, Phi_xibar, theta, beta).\n",
        "            for Phi_xi in Phi_xis:\n",
        "              P_xi_bt[b][t] *= observation_model(Phi_xi, Phi_xibar, theta, beta)\n",
        "\n",
        "            #######\n",
        "    # Calculate b(theta, beta) -> posterior for theta and beta after demonstration\n",
        "    P_bt = np.multiply(P_xi_bt, prior)\n",
        "    P_bt = P_bt / sum(sum(P_bt))\n",
        "    ##########################\n",
        "    return P_bt\n",
        "\n",
        "#################################\n",
        "#### Visualization functions ####\n",
        "#################################\n",
        "\n",
        "def visualize_posterior(prob, thetas, betas):\n",
        "    matplotlib.rcParams.update({'font.size': 15})\n",
        "\n",
        "    plt.figure()\n",
        "    plt.imshow(prob, cmap='Blues', interpolation='nearest')\n",
        "    plt.colorbar()\n",
        "    plt.clim(0, None)\n",
        "\n",
        "    weights_rounded = [[round(i,2) for i in j] for j in thetas]\n",
        "    plt.xticks(range(len(thetas)), weights_rounded, rotation = 'vertical')\n",
        "    plt.yticks(range(len(betas)), betas)\n",
        "    plt.xlabel(r'$\\theta$')\n",
        "    plt.ylabel(r'$\\beta$')\n",
        "    plt.title(\"Joint Posterior Belief\")\n",
        "    plt.show()\n"
      ]
    },
    {
      "cell_type": "markdown",
      "metadata": {
        "id": "Wv-QdVUh-9Cx"
      },
      "source": [
        "Now let's test your inference function. First, for a simulated human with high rationality coefficient $\\beta$."
      ]
    },
    {
      "cell_type": "code",
      "execution_count": null,
      "metadata": {
        "id": "2L8RQ2Uf-9Cx",
        "colab": {
          "base_uri": "https://localhost:8080/",
          "height": 1000
        },
        "outputId": "224c871f-6d99-4a46-9fa5-16c223add307"
      },
      "outputs": [
        {
          "output_type": "display_data",
          "data": {
            "text/plain": [
              "<Figure size 640x480 with 1 Axes>"
            ],
            "image/png": "[encoded data removed]"
          },
          "metadata": {}
        },
        {
          "output_type": "display_data",
          "data": {
            "text/plain": [
              "<Figure size 640x480 with 2 Axes>"
            ],
            "image/png": "[encoded data removed]"
          },
          "metadata": {}
        }
      ],
      "source": [
        "# Define parameters for simulated human with high rationality, who wants to stay close to both obstacles.\n",
        "feat_list = [\"obstacles\"]\n",
        "num_features = 2\n",
        "scaling_coeffs = feat_scale_construct(feat_list) # Used for normalizing feature values.\n",
        "real_theta = np.array([1.0, 1.0])\n",
        "real_beta = 100.0\n",
        "num_demos = 10\n",
        "\n",
        "# Generate demonstrations.\n",
        "demos = sample_demonstrations(real_theta, real_beta, num_demos)\n",
        "gridworld.visualize_demos(demos)\n",
        "\n",
        "# Generate feature values for all demonstrations.\n",
        "Phi_xis = [featurize(xi, feat_list, scaling_coeffs) for xi in demos]\n",
        "\n",
        "# Perform and visualize inference.\n",
        "posterior = inference(Phi_xis, thetas, betas)\n",
        "visualize_posterior(posterior, thetas, betas)\n"
      ]
    },
    {
      "cell_type": "markdown",
      "metadata": {
        "id": "VdzmrsWt-9Cx"
      },
      "source": [
        "Now, for a human who wants to avoid the left obstacle?"
      ]
    },
    {
      "cell_type": "code",
      "execution_count": null,
      "metadata": {
        "id": "2ygcC4EM-9Cx",
        "colab": {
          "base_uri": "https://localhost:8080/",
          "height": 1000
        },
        "outputId": "c733a6c8-e8be-4dff-80ad-554567a53f86"
      },
      "outputs": [
        {
          "output_type": "display_data",
          "data": {
            "text/plain": [
              "<Figure size 640x480 with 1 Axes>"
            ],
            "image/png": "[encoded data removed]"
          },
          "metadata": {}
        },
        {
          "output_type": "display_data",
          "data": {
            "text/plain": [
              "<Figure size 640x480 with 2 Axes>"
            ],
            "image/png": "[encoded data removed]"
          },
          "metadata": {}
        }
      ],
      "source": [
        "# Define parameters for simulated human with high rationality, who wants to stay close to both obstacles.\n",
        "feat_list = [\"obstacles\"]\n",
        "num_features = 2\n",
        "scaling_coeffs = feat_scale_construct(feat_list) # Used for normalizing feature values.\n",
        "real_theta = np.array([-1.0, 1.0])\n",
        "real_beta = 100.0\n",
        "num_demos = 10\n",
        "\n",
        "# Generate demonstrations.\n",
        "demos = sample_demonstrations(real_theta, real_beta, num_demos)\n",
        "gridworld.visualize_demos(demos)\n",
        "\n",
        "# Generate feature values for all demonstrations.\n",
        "Phi_xis = [featurize(xi, feat_list, scaling_coeffs) for xi in demos]\n",
        "\n",
        "# Perform and visualize inference.\n",
        "posterior = inference(Phi_xis, thetas, betas)\n",
        "visualize_posterior(posterior, thetas, betas)\n"
      ]
    },
    {
      "cell_type": "markdown",
      "metadata": {
        "id": "y_WJ8R89-9Cx"
      },
      "source": [
        "## (e) TODO (5 points): For each of the two humans, do the inferred reward weights seem reasonable? Why?\n",
        "\n",
        "Write your response in the cell below."
      ]
    },
    {
      "cell_type": "markdown",
      "source": [
        "For high beta value, the inferred reward weights (theta) should very nearly align with the true theta which is [1.0, 1.0] because high beta means more optimum path, so it strongly shows true cost function. For a low beta, the distribution should show wider range of uncertainty for different theta values. This seems as expected as optimal demonstrations clearly show the intent."
      ],
      "metadata": {
        "id": "ND3aqoYRODG8"
      }
    },
    {
      "cell_type": "markdown",
      "metadata": {
        "id": "Sc_DejFa-9Cx"
      },
      "source": [
        "# Goal Inference"
      ]
    },
    {
      "cell_type": "markdown",
      "metadata": {
        "id": "AFsf7ANu-9Cx"
      },
      "source": [
        "We're now going to switch gears to intent inference. Instead of caring about obstacles, our agent is presented with 2 possible goals in the grid world. After seeing a partial trajectory $\\xi_{S\\rightarrow Q}$ from the start $S$ to an intermediate state $Q$, we want to compute the probability the trajectory is headed to either goal $G$."
      ]
    },
    {
      "cell_type": "code",
      "execution_count": null,
      "metadata": {
        "id": "LCzeeNz6-9Cx",
        "colab": {
          "base_uri": "https://localhost:8080/",
          "height": 406
        },
        "outputId": "d6fabd07-3f0f-4700-e78e-084c460c0582"
      },
      "outputs": [
        {
          "output_type": "display_data",
          "data": {
            "text/plain": [
              "<Figure size 640x480 with 1 Axes>"
            ],
            "image/png": "[encoded data removed]"
          },
          "metadata": {}
        }
      ],
      "source": [
        "# Build gridworld.\n",
        "sim_height = 6\n",
        "sim_width = 8\n",
        "obstacles = [[[1,1], [1,1]] , [[4,3],[4,3]]]\n",
        "start = [3, 2]\n",
        "goals = [[7, 0], [6, 5]]\n",
        "feat_list = [\"goals\"]\n",
        "gridworld = AgentGridworld(sim_width, sim_height, obstacles, start, goals)\n",
        "gridworld.visualize_grid()"
      ]
    },
    {
      "cell_type": "markdown",
      "metadata": {
        "id": "DszMd31i-9Cx"
      },
      "source": [
        "What we want is $P(G\\mid \\xi_{S\\rightarrow Q})$ for every goal $G\\in Goals$.\n",
        "\n",
        "We will use the following likelihood function:\n",
        "\n",
        "$$P(G\\mid\\xi_{S\\rightarrow Q}) = \\frac{P(\\xi_{S\\rightarrow Q}\\mid G)P(G)}{\\sum_{\\bar G} P(\\xi_{S\\rightarrow Q}\\mid \\bar G)P(\\bar G)}\\enspace,$$\n",
        "\n",
        "and $$P(\\xi_{S\\rightarrow Q}\\mid G) = \\frac{e^{-C_G(\\xi_{S\\rightarrow Q})}\\sum_{\\xi_{Q\\rightarrow G}} e^{-C_G(\\xi_{Q\\rightarrow G})}}{\\sum_{\\xi_{S\\rightarrow G}} e^{-C_G(\\xi_{S\\rightarrow G})}}\\enspace.$$\n",
        "\n",
        "Let's define the cost function $C_G$ as the cumulative distance from the goal $G$.\n",
        "## (f) TODO (20 points): Using the above formulae, <b>implement the `goal_inference` function below</b>,\n",
        "which takes in the partial trajectory $\\xi_{S\\rightarrow Q}$ and the goal set $Goals$. We provide a uniform prior over goals."
      ]
    },
    {
      "cell_type": "code",
      "execution_count": null,
      "metadata": {
        "id": "pSJw0pd1-9Cy"
      },
      "outputs": [],
      "source": [
        "def goal_inference(traj, goals):\n",
        "    \"\"\"\n",
        "    Performs goal inference from given partial trajectory.\n",
        "    Params:\n",
        "        traj [list] -- The partial trajectory xi_SQ.\n",
        "        goals [list] -- List of goals.\n",
        "    Returns:\n",
        "        P_g [array] -- Posterior probability P(G | xi_SQ)\n",
        "    \"\"\"\n",
        "    prior = np.ones(len(goals)) / len(goals)\n",
        "    P_xi_g = np.ones(len(goals))\n",
        "\n",
        "    Phi_xi = featurize(traj, feat_list) # Cost from S to Q, under both G1 and G2\n",
        "    for i in range(len(goals)):\n",
        "        SG_trajs = gridworld.traj_construct(start, goals[i])\n",
        "        QG_trajs = gridworld.traj_construct(gridworld.state_to_coor(traj[-1]), goals[i])\n",
        "        Phi_xiSG = [featurize(xi, feat_list)[i] for xi in SG_trajs] # Distances from S to G_i\n",
        "        Phi_xiQG = [featurize(xi, feat_list)[i] for xi in QG_trajs] # Distances from Q to G_i\n",
        "\n",
        "        # YOUR CODE HERE\n",
        "        C_xi = -Phi_xi[i]\n",
        "        C_xiQG = [-Phi for Phi in Phi_xiQG]\n",
        "        C_xiSG = [-Phi for Phi in Phi_xiSG]\n",
        "        P_xi_g[i] = np.exp(C_xi) * sum(np.exp(C_xiQG))/sum(np.exp(C_xiSG))\n",
        "\n",
        "\n",
        "    P_g = np.multiply(P_xi_g, prior)\n",
        "    P_g = P_g / sum(P_g)\n",
        "    ################\n",
        "    return P_g\n",
        "\n",
        "\n",
        "def visualize_inference(prob, goals):\n",
        "    matplotlib.rcParams.update({'font.size': 15})\n",
        "\n",
        "    plt.figure()\n",
        "    plt.imshow([prob], cmap='Oranges', interpolation='nearest')\n",
        "    plt.colorbar(ticks=[0, 0.5, 1.0])\n",
        "    plt.clim(0, 1.0)\n",
        "\n",
        "    plt.xticks(range(len(goals)), goals, rotation = 'vertical')\n",
        "    plt.yticks([])\n",
        "    plt.xlabel('Goals')\n",
        "    plt.title(\"Inference\")\n",
        "    plt.show()"
      ]
    },
    {
      "cell_type": "markdown",
      "metadata": {
        "id": "hSamhBVQ-9Cy"
      },
      "source": [
        "Let's test your implementation for the following 3 partial trajectories."
      ]
    },
    {
      "cell_type": "code",
      "execution_count": null,
      "metadata": {
        "id": "soiVbaQz-9Cy",
        "colab": {
          "base_uri": "https://localhost:8080/",
          "height": 815
        },
        "outputId": "9f09e9cb-2f5e-4deb-a1ac-a14c7cc10d33"
      },
      "outputs": [
        {
          "output_type": "display_data",
          "data": {
            "text/plain": [
              "<Figure size 640x480 with 1 Axes>"
            ],
            "image/png": "[encoded data removed]"
          },
          "metadata": {}
        },
        {
          "output_type": "display_data",
          "data": {
            "text/plain": [
              "<Figure size 640x480 with 2 Axes>"
            ],
            "image/png": "[encoded data removed]"
          },
          "metadata": {}
        }
      ],
      "source": [
        "traj = [(3,2), (4,2), (5,2)]\n",
        "demo = [gridworld.coor_to_state(x, y) for (x,y) in traj]\n",
        "gridworld.visualize_demos([demo])\n",
        "\n",
        "posterior = goal_inference(demo, goals)\n",
        "visualize_inference(posterior, goals)"
      ]
    },
    {
      "cell_type": "code",
      "execution_count": null,
      "metadata": {
        "id": "mwznmrNH-9Cy",
        "colab": {
          "base_uri": "https://localhost:8080/",
          "height": 815
        },
        "outputId": "73ba109d-5a09-4a75-9003-a86e88009f13"
      },
      "outputs": [
        {
          "output_type": "display_data",
          "data": {
            "text/plain": [
              "<Figure size 640x480 with 1 Axes>"
            ],
            "image/png": "[encoded data removed]"
          },
          "metadata": {}
        },
        {
          "output_type": "display_data",
          "data": {
            "text/plain": [
              "<Figure size 640x480 with 2 Axes>"
            ],
            "image/png": "[encoded data removed]"
          },
          "metadata": {}
        }
      ],
      "source": [
        "traj = [(3,2), (4,2), (5,2), (5,1)]\n",
        "demo = [gridworld.coor_to_state(x, y) for (x,y) in traj]\n",
        "gridworld.visualize_demos([demo])\n",
        "\n",
        "posterior = goal_inference(demo, goals)\n",
        "visualize_inference(posterior, goals)"
      ]
    },
    {
      "cell_type": "code",
      "execution_count": null,
      "metadata": {
        "id": "O1Kks-1a-9Cy",
        "colab": {
          "base_uri": "https://localhost:8080/",
          "height": 815
        },
        "outputId": "34020ceb-8a08-4c98-b39b-6179a0067ad4"
      },
      "outputs": [
        {
          "output_type": "display_data",
          "data": {
            "text/plain": [
              "<Figure size 640x480 with 1 Axes>"
            ],
            "image/png": "[encoded data removed]"
          },
          "metadata": {}
        },
        {
          "output_type": "display_data",
          "data": {
            "text/plain": [
              "<Figure size 640x480 with 2 Axes>"
            ],
            "image/png": "[encoded data removed]"
          },
          "metadata": {}
        }
      ],
      "source": [
        "traj = [(3,2), (4,2), (5,2), (5,3)]\n",
        "demo = [gridworld.coor_to_state(x, y) for (x,y) in traj]\n",
        "gridworld.visualize_demos([demo])\n",
        "\n",
        "posterior = goal_inference(demo, goals)\n",
        "visualize_inference(posterior, goals)"
      ]
    },
    {
      "cell_type": "markdown",
      "metadata": {
        "id": "-bTtvLQi-9Cy"
      },
      "source": [
        "## (f) TODO (5 points): Compare and contrast the above 3 scenarios. How can measure the \"confidence\" of the belief? What types of trajectories lead to the most \"confident\" beliefs?\n",
        "\n",
        "Write your answer in the cell below."
      ]
    },
    {
      "cell_type": "markdown",
      "source": [
        "First case has two possible opportunities between the hypotheses for the two goals, so the observer's confidence is nearly equal for both the goals.\n",
        "Second scenario has a bias towards the upper right goal and hence the confidence is biased and towards the upper goal too.\n",
        "The third on is the opposite to the second as the confidence is towards the bottom right goal."
      ],
      "metadata": {
        "id": "5uSAGF-DQaOd"
      }
    }
  ],
  "metadata": {
    "@webio": {
      "lastCommId": null,
      "lastKernelId": null
    },
    "kernelspec": {
      "display_name": "Python 3 (ipykernel)",
      "language": "python",
      "name": "python3"
    },
    "language_info": {
      "codemirror_mode": {
        "name": "ipython",
        "version": 3
      },
      "file_extension": ".py",
      "mimetype": "text/x-python",
      "name": "python",
      "nbconvert_exporter": "python",
      "pygments_lexer": "ipython3",
      "version": "3.12.2"
    },
    "colab": {
      "provenance": [],
      "include_colab_link": true
    }
  },
  "nbformat": 4,
  "nbformat_minor": 0
}