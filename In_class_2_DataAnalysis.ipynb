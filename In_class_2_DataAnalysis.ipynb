{
  "nbformat": 4,
  "nbformat_minor": 0,
  "metadata": {
    "colab": {
      "provenance": [],
      "include_colab_link": true
    },
    "kernelspec": {
      "name": "python3",
      "display_name": "Python 3"
    },
    "language_info": {
      "name": "python"
    }
  },
  "cells": [
    {
      "cell_type": "markdown",
      "metadata": {
        "id": "view-in-github",
        "colab_type": "text"
      },
      "source": [
        "<a href=\"https://colab.research.google.com/github/ananyashrimali03/Strategy-and-Decision/blob/main/In_class_2_DataAnalysis.ipynb\" target=\"_parent\"><img src=\"https://colab.research.google.com/assets/colab-badge.svg\" alt=\"Open In Colab\"/></a>"
      ]
    },
    {
      "cell_type": "markdown",
      "metadata": {
        "id": "efc46d3a-d2ea-44e7-a146-1a3ca2027be7"
      },
      "source": [
        "## In-Class Exercise 2: Data Analysis"
      ]
    },
    {
      "cell_type": "markdown",
      "metadata": {
        "id": "7af96095-9cd0-4d3a-90e2-3f14483e30ee"
      },
      "source": [
        "### **Make a copy of thise Jupyter notebook (File -> \"Save a copy in Drive\")**\n",
        "\n",
        "### Goal.\n",
        "The goal of this assignment is to get practice analyzing data and reflecting on the\n",
        "outcomes, using what you learned in lecture.\n",
        "\n",
        "### Deliverable.\n",
        "Please submit a PDF copy of this jupyter notebook.\n",
        "\n",
        "### Submission.\n",
        "Upload these documents to Canvas under the Assignments tab. This assignment should be uploaded individually.\n",
        "\n",
        "### Deadline.\n",
        "March 10 at 11:59pm.\n",
        "\n",
        "### Python and Numpy practice\n",
        "If you would like extra practice or you are unfamiliar with Python or Numpy, I recommend first doing this practice exercise: https://colab.research.google.com/drive/1Z9K5pxCfrdMpLNAXR9xOE2kxVHRe0_Yo?usp=sharing"
      ]
    },
    {
      "cell_type": "markdown",
      "metadata": {
        "id": "fc6a7b04-9a1e-41d6-98bb-c2dbe599af0e"
      },
      "source": [
        "# The Study\n",
        "Suppose you conducted a human-robot interaction study to examine the effects of robot handover algorithm (A versus B) on handover efficiency. To do this, you measured how many seconds it took people to complete a task that required a sequence of successful handovers. We have already loaded the data from a data csv file into variables 'A' and 'B' below for you."
      ]
    },
    {
      "cell_type": "code",
      "execution_count": null,
      "metadata": {
        "id": "d0d71490-56e6-4cf3-bc08-7406361b1e83"
      },
      "outputs": [],
      "source": [
        "import numpy as np\n",
        "import pandas as pd\n",
        "import matplotlib.pyplot as plt"
      ]
    },
    {
      "cell_type": "code",
      "execution_count": null,
      "metadata": {
        "id": "3bcec648-d8ec-47ba-a649-e53b6610435b"
      },
      "outputs": [],
      "source": [
        "A = np.array([36, 37, 38, 38, 38, 39, 40, 40, 40, 40, 41, 41, 41, 41, 41, 41, 42, 42, 42, 42, 42, 42, 42, 43, 43, 43, 43, 43, 43, 43, 43, 44, 44, 44, 44, 44, 44, 44, 44, 44, 45, 45, 45, 45, 45, 45, 45, 45, 45, 45, 46, 46, 46, 46, 46, 46, 46, 46, 46, 46, 47, 47, 47, 47, 47, 47, 47, 47, 47, 48, 48, 48, 48, 48, 48, 48, 48, 49, 49, 49, 49, 49, 49, 49, 50, 50, 50, 50, 50, 50, 51, 51, 51, 51, 52, 52, 53, 53, 54, 55])\n",
        "B = np.array([34, 42, 36, 40, 44, 41, 45, 38, 38, 42, 38, 45, 38, 44, 46, 44, 47, 46, 44, 46, 39, 40, 39, 40, 41, 41, 47, 46, 42, 44, 47, 48, 49, 49, 44, 43, 49, 47, 47, 45, 45, 49, 45, 46, 43, 44, 47, 42, 42, 44, 46, 50, 47, 51, 49, 44, 48, 44, 50, 43, 47, 52, 50, 46, 51, 47, 46, 48, 50, 52, 47, 50, 45, 50, 48, 46, 47, 46, 52, 51, 48, 52, 49, 52, 54, 53, 47, 52, 48, 47, 51, 56, 49, 50, 54, 50, 58, 54, 51, 54])"
      ]
    },
    {
      "cell_type": "markdown",
      "metadata": {
        "id": "c16ea2f1-fb8b-43cc-881a-7a01c2c38323"
      },
      "source": [
        "In the lists of data provided above, \"A\" and  \"B\" represent the different handover algorithm conditions. Each numerical entry is one participant's completion time. This was a between-subjects study, so the first data point from \"A\" comes from a different person than the first data point from \"B\". The green \"#TODO\" comments indicate information you will fill in during this exercise."
      ]
    },
    {
      "cell_type": "markdown",
      "metadata": {
        "id": "1a4b7cc1-f949-4e1c-896f-9427ac5adb0f"
      },
      "source": [
        "# 1. (20 pts) Descriptive Statistics and Visualizations"
      ]
    },
    {
      "cell_type": "markdown",
      "metadata": {
        "id": "79176cf6-b850-418b-80af-7f7f9c72e2a5"
      },
      "source": [
        "## (a) Calculate the mean, median, and standard deviation for conditions A and B."
      ]
    },
    {
      "cell_type": "code",
      "execution_count": null,
      "metadata": {
        "colab": {
          "base_uri": "https://localhost:8080/",
          "height": 112
        },
        "id": "2ef3a917-f228-4f57-8862-bac1471193bb",
        "outputId": "e12be09a-f60c-4b9f-d3ae-20658c4e80e1"
      },
      "outputs": [
        {
          "output_type": "execute_result",
          "data": {
            "text/plain": [
              "  label   mean  median       std\n",
              "0     A  45.49    45.5  3.917895\n",
              "1     B  46.44    47.0  4.508481"
            ],
            "text/html": [
              "\n",
              "  <div id=\"df-1ddc9815-469d-49bd-90ef-db7c9cf68113\" class=\"colab-df-container\">\n",
              "    <div>\n",
              "<style scoped>\n",
              "    .dataframe tbody tr th:only-of-type {\n",
              "        vertical-align: middle;\n",
              "    }\n",
              "\n",
              "    .dataframe tbody tr th {\n",
              "        vertical-align: top;\n",
              "    }\n",
              "\n",
              "    .dataframe thead th {\n",
              "        text-align: right;\n",
              "    }\n",
              "</style>\n",
              "<table border=\"1\" class=\"dataframe\">\n",
              "  <thead>\n",
              "    <tr style=\"text-align: right;\">\n",
              "      <th></th>\n",
              "      <th>label</th>\n",
              "      <th>mean</th>\n",
              "      <th>median</th>\n",
              "      <th>std</th>\n",
              "    </tr>\n",
              "  </thead>\n",
              "  <tbody>\n",
              "    <tr>\n",
              "      <th>0</th>\n",
              "      <td>A</td>\n",
              "      <td>45.49</td>\n",
              "      <td>45.5</td>\n",
              "      <td>3.917895</td>\n",
              "    </tr>\n",
              "    <tr>\n",
              "      <th>1</th>\n",
              "      <td>B</td>\n",
              "      <td>46.44</td>\n",
              "      <td>47.0</td>\n",
              "      <td>4.508481</td>\n",
              "    </tr>\n",
              "  </tbody>\n",
              "</table>\n",
              "</div>\n",
              "    <div class=\"colab-df-buttons\">\n",
              "\n",
              "  <div class=\"colab-df-container\">\n",
              "    <button class=\"colab-df-convert\" onclick=\"convertToInteractive('df-1ddc9815-469d-49bd-90ef-db7c9cf68113')\"\n",
              "            title=\"Convert this dataframe to an interactive table.\"\n",
              "            style=\"display:none;\">\n",
              "\n",
              "  <svg xmlns=\"http://www.w3.org/2000/svg\" height=\"24px\" viewBox=\"0 -960 960 960\">\n",
              "    <path d=\"M120-120v-720h720v720H120Zm60-500h600v-160H180v160Zm220 220h160v-160H400v160Zm0 220h160v-160H400v160ZM180-400h160v-160H180v160Zm440 0h160v-160H620v160ZM180-180h160v-160H180v160Zm440 0h160v-160H620v160Z\"/>\n",
              "  </svg>\n",
              "    </button>\n",
              "\n",
              "  <style>\n",
              "    .colab-df-container {\n",
              "      display:flex;\n",
              "      gap: 12px;\n",
              "    }\n",
              "\n",
              "    .colab-df-convert {\n",
              "      background-color: #E8F0FE;\n",
              "      border: none;\n",
              "      border-radius: 50%;\n",
              "      cursor: pointer;\n",
              "      display: none;\n",
              "      fill: #1967D2;\n",
              "      height: 32px;\n",
              "      padding: 0 0 0 0;\n",
              "      width: 32px;\n",
              "    }\n",
              "\n",
              "    .colab-df-convert:hover {\n",
              "      background-color: #E2EBFA;\n",
              "      box-shadow: 0px 1px 2px rgba(60, 64, 67, 0.3), 0px 1px 3px 1px rgba(60, 64, 67, 0.15);\n",
              "      fill: #174EA6;\n",
              "    }\n",
              "\n",
              "    .colab-df-buttons div {\n",
              "      margin-bottom: 4px;\n",
              "    }\n",
              "\n",
              "    [theme=dark] .colab-df-convert {\n",
              "      background-color: #3B4455;\n",
              "      fill: #D2E3FC;\n",
              "    }\n",
              "\n",
              "    [theme=dark] .colab-df-convert:hover {\n",
              "      background-color: #434B5C;\n",
              "      box-shadow: 0px 1px 3px 1px rgba(0, 0, 0, 0.15);\n",
              "      filter: drop-shadow(0px 1px 2px rgba(0, 0, 0, 0.3));\n",
              "      fill: #FFFFFF;\n",
              "    }\n",
              "  </style>\n",
              "\n",
              "    <script>\n",
              "      const buttonEl =\n",
              "        document.querySelector('#df-1ddc9815-469d-49bd-90ef-db7c9cf68113 button.colab-df-convert');\n",
              "      buttonEl.style.display =\n",
              "        google.colab.kernel.accessAllowed ? 'block' : 'none';\n",
              "\n",
              "      async function convertToInteractive(key) {\n",
              "        const element = document.querySelector('#df-1ddc9815-469d-49bd-90ef-db7c9cf68113');\n",
              "        const dataTable =\n",
              "          await google.colab.kernel.invokeFunction('convertToInteractive',\n",
              "                                                    [key], {});\n",
              "        if (!dataTable) return;\n",
              "\n",
              "        const docLinkHtml = 'Like what you see? Visit the ' +\n",
              "          '<a target=\"_blank\" href=https://colab.research.google.com/notebooks/data_table.ipynb>data table notebook</a>'\n",
              "          + ' to learn more about interactive tables.';\n",
              "        element.innerHTML = '';\n",
              "        dataTable['output_type'] = 'display_data';\n",
              "        await google.colab.output.renderOutput(dataTable, element);\n",
              "        const docLink = document.createElement('div');\n",
              "        docLink.innerHTML = docLinkHtml;\n",
              "        element.appendChild(docLink);\n",
              "      }\n",
              "    </script>\n",
              "  </div>\n",
              "\n",
              "\n",
              "<div id=\"df-604d5b8b-3b04-4900-87c0-9785afc868e8\">\n",
              "  <button class=\"colab-df-quickchart\" onclick=\"quickchart('df-604d5b8b-3b04-4900-87c0-9785afc868e8')\"\n",
              "            title=\"Suggest charts\"\n",
              "            style=\"display:none;\">\n",
              "\n",
              "<svg xmlns=\"http://www.w3.org/2000/svg\" height=\"24px\"viewBox=\"0 0 24 24\"\n",
              "     width=\"24px\">\n",
              "    <g>\n",
              "        <path d=\"M19 3H5c-1.1 0-2 .9-2 2v14c0 1.1.9 2 2 2h14c1.1 0 2-.9 2-2V5c0-1.1-.9-2-2-2zM9 17H7v-7h2v7zm4 0h-2V7h2v10zm4 0h-2v-4h2v4z\"/>\n",
              "    </g>\n",
              "</svg>\n",
              "  </button>\n",
              "\n",
              "<style>\n",
              "  .colab-df-quickchart {\n",
              "      --bg-color: #E8F0FE;\n",
              "      --fill-color: #1967D2;\n",
              "      --hover-bg-color: #E2EBFA;\n",
              "      --hover-fill-color: #174EA6;\n",
              "      --disabled-fill-color: #AAA;\n",
              "      --disabled-bg-color: #DDD;\n",
              "  }\n",
              "\n",
              "  [theme=dark] .colab-df-quickchart {\n",
              "      --bg-color: #3B4455;\n",
              "      --fill-color: #D2E3FC;\n",
              "      --hover-bg-color: #434B5C;\n",
              "      --hover-fill-color: #FFFFFF;\n",
              "      --disabled-bg-color: #3B4455;\n",
              "      --disabled-fill-color: #666;\n",
              "  }\n",
              "\n",
              "  .colab-df-quickchart {\n",
              "    background-color: var(--bg-color);\n",
              "    border: none;\n",
              "    border-radius: 50%;\n",
              "    cursor: pointer;\n",
              "    display: none;\n",
              "    fill: var(--fill-color);\n",
              "    height: 32px;\n",
              "    padding: 0;\n",
              "    width: 32px;\n",
              "  }\n",
              "\n",
              "  .colab-df-quickchart:hover {\n",
              "    background-color: var(--hover-bg-color);\n",
              "    box-shadow: 0 1px 2px rgba(60, 64, 67, 0.3), 0 1px 3px 1px rgba(60, 64, 67, 0.15);\n",
              "    fill: var(--button-hover-fill-color);\n",
              "  }\n",
              "\n",
              "  .colab-df-quickchart-complete:disabled,\n",
              "  .colab-df-quickchart-complete:disabled:hover {\n",
              "    background-color: var(--disabled-bg-color);\n",
              "    fill: var(--disabled-fill-color);\n",
              "    box-shadow: none;\n",
              "  }\n",
              "\n",
              "  .colab-df-spinner {\n",
              "    border: 2px solid var(--fill-color);\n",
              "    border-color: transparent;\n",
              "    border-bottom-color: var(--fill-color);\n",
              "    animation:\n",
              "      spin 1s steps(1) infinite;\n",
              "  }\n",
              "\n",
              "  @keyframes spin {\n",
              "    0% {\n",
              "      border-color: transparent;\n",
              "      border-bottom-color: var(--fill-color);\n",
              "      border-left-color: var(--fill-color);\n",
              "    }\n",
              "    20% {\n",
              "      border-color: transparent;\n",
              "      border-left-color: var(--fill-color);\n",
              "      border-top-color: var(--fill-color);\n",
              "    }\n",
              "    30% {\n",
              "      border-color: transparent;\n",
              "      border-left-color: var(--fill-color);\n",
              "      border-top-color: var(--fill-color);\n",
              "      border-right-color: var(--fill-color);\n",
              "    }\n",
              "    40% {\n",
              "      border-color: transparent;\n",
              "      border-right-color: var(--fill-color);\n",
              "      border-top-color: var(--fill-color);\n",
              "    }\n",
              "    60% {\n",
              "      border-color: transparent;\n",
              "      border-right-color: var(--fill-color);\n",
              "    }\n",
              "    80% {\n",
              "      border-color: transparent;\n",
              "      border-right-color: var(--fill-color);\n",
              "      border-bottom-color: var(--fill-color);\n",
              "    }\n",
              "    90% {\n",
              "      border-color: transparent;\n",
              "      border-bottom-color: var(--fill-color);\n",
              "    }\n",
              "  }\n",
              "</style>\n",
              "\n",
              "  <script>\n",
              "    async function quickchart(key) {\n",
              "      const quickchartButtonEl =\n",
              "        document.querySelector('#' + key + ' button');\n",
              "      quickchartButtonEl.disabled = true;  // To prevent multiple clicks.\n",
              "      quickchartButtonEl.classList.add('colab-df-spinner');\n",
              "      try {\n",
              "        const charts = await google.colab.kernel.invokeFunction(\n",
              "            'suggestCharts', [key], {});\n",
              "      } catch (error) {\n",
              "        console.error('Error during call to suggestCharts:', error);\n",
              "      }\n",
              "      quickchartButtonEl.classList.remove('colab-df-spinner');\n",
              "      quickchartButtonEl.classList.add('colab-df-quickchart-complete');\n",
              "    }\n",
              "    (() => {\n",
              "      let quickchartButtonEl =\n",
              "        document.querySelector('#df-604d5b8b-3b04-4900-87c0-9785afc868e8 button');\n",
              "      quickchartButtonEl.style.display =\n",
              "        google.colab.kernel.accessAllowed ? 'block' : 'none';\n",
              "    })();\n",
              "  </script>\n",
              "</div>\n",
              "\n",
              "    </div>\n",
              "  </div>\n"
            ],
            "application/vnd.google.colaboratory.intrinsic+json": {
              "type": "dataframe",
              "summary": "{\n  \"name\": \"pd\",\n  \"rows\": 2,\n  \"fields\": [\n    {\n      \"column\": \"label\",\n      \"properties\": {\n        \"dtype\": \"string\",\n        \"num_unique_values\": 2,\n        \"samples\": [\n          \"B\",\n          \"A\"\n        ],\n        \"semantic_type\": \"\",\n        \"description\": \"\"\n      }\n    },\n    {\n      \"column\": \"mean\",\n      \"properties\": {\n        \"dtype\": \"number\",\n        \"std\": 0.6717514421272172,\n        \"min\": 45.49,\n        \"max\": 46.44,\n        \"num_unique_values\": 2,\n        \"samples\": [\n          46.44,\n          45.49\n        ],\n        \"semantic_type\": \"\",\n        \"description\": \"\"\n      }\n    },\n    {\n      \"column\": \"median\",\n      \"properties\": {\n        \"dtype\": \"number\",\n        \"std\": 1.0606601717798212,\n        \"min\": 45.5,\n        \"max\": 47.0,\n        \"num_unique_values\": 2,\n        \"samples\": [\n          47.0,\n          45.5\n        ],\n        \"semantic_type\": \"\",\n        \"description\": \"\"\n      }\n    },\n    {\n      \"column\": \"std\",\n      \"properties\": {\n        \"dtype\": \"number\",\n        \"std\": 0.4176074038390341,\n        \"min\": 3.9178948428971396,\n        \"max\": 4.50848089715372,\n        \"num_unique_values\": 2,\n        \"samples\": [\n          4.50848089715372,\n          3.9178948428971396\n        ],\n        \"semantic_type\": \"\",\n        \"description\": \"\"\n      }\n    }\n  ]\n}"
            }
          },
          "metadata": {},
          "execution_count": 12
        }
      ],
      "source": [
        "# TODO: Print the means, medians, and standard deviations as a nice table.\n",
        "\n",
        "rows_list = []\n",
        "\n",
        "descriptive_statistics = {}\n",
        "descriptive_statistics['label'] = 'A'\n",
        "descriptive_statistics['mean'] = np.mean(A)\n",
        "descriptive_statistics['median'] = np.median(A) # TODO\n",
        "descriptive_statistics['std'] = np.std(A) # TODO\n",
        "rows_list.append(descriptive_statistics)\n",
        "\n",
        "descriptive_statistics = {}\n",
        "descriptive_statistics['label'] = 'B'\n",
        "descriptive_statistics['mean'] = np.mean(B) # TODO\n",
        "descriptive_statistics['median'] = np.median(B) # TODO\n",
        "descriptive_statistics['std'] = np.std(B) # TODO\n",
        "rows_list.append(descriptive_statistics)\n",
        "\n",
        "pd.DataFrame(rows_list)"
      ]
    },
    {
      "cell_type": "markdown",
      "metadata": {
        "id": "471e7e20-0589-4d05-a93a-e7710e48343b"
      },
      "source": [
        "## (b) Visualize the distribution of data in conditions A and B as a histogram.\n",
        "\n",
        "To do so, first divide the data into bins and find the frequency of each bin for each condition. The bins (31 to 63) are already provided to you below. Print how many of the data values fall into each bin for each condition.\n",
        "\n",
        "Hint: Use np.histogram with plt.bar or plt.hist\n",
        "\n",
        "https://numpy.org/doc/stable/reference/generated/numpy.histogram.html\n",
        "\n",
        "https://matplotlib.org/stable/api/_as_gen/matplotlib.pyplot.bar.html\n",
        "\n",
        "https://matplotlib.org/stable/api/_as_gen/matplotlib.pyplot.hist.html"
      ]
    },
    {
      "cell_type": "code",
      "execution_count": null,
      "metadata": {
        "id": "55c0e871-c7ab-4f13-8bb1-2b4e8c11da45"
      },
      "outputs": [],
      "source": [
        "bins = np.array([31, 33, 35, 37, 39, 41, 43, 45, 47, 49, 51, 53, 55, 57, 59, 61, 63])\n"
      ]
    },
    {
      "cell_type": "code",
      "execution_count": null,
      "metadata": {
        "id": "6519fa02-3877-438f-bbec-073a5d8eafa2",
        "outputId": "c33fe688-c25c-40e8-fd0b-d55b3d87abb6",
        "colab": {
          "base_uri": "https://localhost:8080/"
        }
      },
      "outputs": [
        {
          "output_type": "stream",
          "name": "stdout",
          "text": [
            "A counts: [ 0  0  1  4  5 13 17 20 17 13  6  3  1  0  0  0]\n"
          ]
        }
      ],
      "source": [
        "A_counts, A_bins = np.histogram(A, bins=bins)\n",
        "print(\"A counts:\", A_counts)"
      ]
    },
    {
      "cell_type": "code",
      "execution_count": null,
      "metadata": {
        "id": "e10ffed3-1b67-4920-8588-6a37e02b3d1c",
        "outputId": "bb270635-7bd2-4ae1-cf5c-a7653cacfc51",
        "colab": {
          "base_uri": "https://localhost:8080/"
        }
      },
      "outputs": [
        {
          "output_type": "stream",
          "name": "stdout",
          "text": [
            "B counts: [ 0  1  1  4  5  8 13 16 19 15 11  5  1  1  0  0]\n"
          ]
        }
      ],
      "source": [
        "B_counts, B_bins = np.histogram(B, bins=bins)\n",
        "print(\"B counts:\", B_counts)"
      ]
    },
    {
      "cell_type": "markdown",
      "metadata": {
        "id": "8a900fc1-f388-465b-9f50-410051bc7037"
      },
      "source": [
        "\n",
        "\n",
        "```\n",
        "# This is formatted as code\n",
        "```\n",
        "\n",
        "Now create a histogram of the data. Create a column chart in which the x axis shows the bins and the y axis shows the frequencies. Put both conditions on the same bar chart as side-by-side bars in different colors. Give your chart an informative title and axis labels."
      ]
    },
    {
      "cell_type": "code",
      "source": [
        "plt.bar(A_bins[1:], A_counts, color='lightblue')\n",
        "plt.bar(B_bins[1:]+1, B_counts, color='lightpink')\n",
        "plt.xlabel('bins')\n",
        "plt.ylabel('frequency')\n",
        "plt.title('Histogram')\n",
        "plt.show()"
      ],
      "metadata": {
        "colab": {
          "base_uri": "https://localhost:8080/",
          "height": 472
        },
        "id": "CwDXlLclf3DQ",
        "outputId": "4c66145d-6931-46c3-c65b-053d0146ac56"
      },
      "execution_count": null,
      "outputs": [
        {
          "output_type": "display_data",
          "data": {
            "text/plain": [
              "<Figure size 640x480 with 1 Axes>"
            ],
            "image/png": "[encoded data removed]"
          },
          "metadata": {}
        }
      ]
    },
    {
      "cell_type": "markdown",
      "metadata": {
        "id": "b018d7a8-7fa2-4805-9a88-8606738c85b0"
      },
      "source": [
        "## (c) Visualize the means and standard deviations of conditions A and B as a boxplot.\n",
        "Create a boxplot of the data. Give your boxplot an informative title and axis labels. Then, calculate the values presented in your boxplot.\n",
        "\n",
        "You may find https://matplotlib.org/stable/api/_as_gen/matplotlib.pyplot.boxplot.html helpful."
      ]
    },
    {
      "cell_type": "code",
      "execution_count": null,
      "metadata": {
        "id": "34b73d69-2184-45d8-ab99-9d2b53377de0",
        "colab": {
          "base_uri": "https://localhost:8080/",
          "height": 472
        },
        "outputId": "2f4120d6-c741-4852-8f9e-2a8546c23819"
      },
      "outputs": [
        {
          "output_type": "display_data",
          "data": {
            "text/plain": [
              "<Figure size 640x480 with 1 Axes>"
            ],
            "image/png": "[encoded data removed]"
          },
          "metadata": {}
        }
      ],
      "source": [
        "# TODO: Create a boxplot of the study data values for the two groups. Hint: plt.boxplot will be useful\n",
        "plt.boxplot([A, B])\n",
        "plt.xlabel('groups')\n",
        "plt.ylabel('values')\n",
        "plt.title('Boxplot')\n",
        "plt.show()"
      ]
    },
    {
      "cell_type": "code",
      "execution_count": null,
      "metadata": {
        "id": "b4a93054-129b-4f03-b536-97a033c2e1f4",
        "colab": {
          "base_uri": "https://localhost:8080/",
          "height": 112
        },
        "outputId": "23731cd5-1ac1-4372-d59d-0e2a88f2fde8"
      },
      "outputs": [
        {
          "output_type": "execute_result",
          "data": {
            "text/plain": [
              "  label  lower_whisker  lower_quartile  median  upper_quartile  upper_whisker\n",
              "0     A             36            43.0    45.5            48.0             55\n",
              "1     B             34            44.0    47.0            50.0             58"
            ],
            "text/html": [
              "\n",
              "  <div id=\"df-112c2f9c-60e8-4701-965a-c6b6d2763ee3\" class=\"colab-df-container\">\n",
              "    <div>\n",
              "<style scoped>\n",
              "    .dataframe tbody tr th:only-of-type {\n",
              "        vertical-align: middle;\n",
              "    }\n",
              "\n",
              "    .dataframe tbody tr th {\n",
              "        vertical-align: top;\n",
              "    }\n",
              "\n",
              "    .dataframe thead th {\n",
              "        text-align: right;\n",
              "    }\n",
              "</style>\n",
              "<table border=\"1\" class=\"dataframe\">\n",
              "  <thead>\n",
              "    <tr style=\"text-align: right;\">\n",
              "      <th></th>\n",
              "      <th>label</th>\n",
              "      <th>lower_whisker</th>\n",
              "      <th>lower_quartile</th>\n",
              "      <th>median</th>\n",
              "      <th>upper_quartile</th>\n",
              "      <th>upper_whisker</th>\n",
              "    </tr>\n",
              "  </thead>\n",
              "  <tbody>\n",
              "    <tr>\n",
              "      <th>0</th>\n",
              "      <td>A</td>\n",
              "      <td>36</td>\n",
              "      <td>43.0</td>\n",
              "      <td>45.5</td>\n",
              "      <td>48.0</td>\n",
              "      <td>55</td>\n",
              "    </tr>\n",
              "    <tr>\n",
              "      <th>1</th>\n",
              "      <td>B</td>\n",
              "      <td>34</td>\n",
              "      <td>44.0</td>\n",
              "      <td>47.0</td>\n",
              "      <td>50.0</td>\n",
              "      <td>58</td>\n",
              "    </tr>\n",
              "  </tbody>\n",
              "</table>\n",
              "</div>\n",
              "    <div class=\"colab-df-buttons\">\n",
              "\n",
              "  <div class=\"colab-df-container\">\n",
              "    <button class=\"colab-df-convert\" onclick=\"convertToInteractive('df-112c2f9c-60e8-4701-965a-c6b6d2763ee3')\"\n",
              "            title=\"Convert this dataframe to an interactive table.\"\n",
              "            style=\"display:none;\">\n",
              "\n",
              "  <svg xmlns=\"http://www.w3.org/2000/svg\" height=\"24px\" viewBox=\"0 -960 960 960\">\n",
              "    <path d=\"M120-120v-720h720v720H120Zm60-500h600v-160H180v160Zm220 220h160v-160H400v160Zm0 220h160v-160H400v160ZM180-400h160v-160H180v160Zm440 0h160v-160H620v160ZM180-180h160v-160H180v160Zm440 0h160v-160H620v160Z\"/>\n",
              "  </svg>\n",
              "    </button>\n",
              "\n",
              "  <style>\n",
              "    .colab-df-container {\n",
              "      display:flex;\n",
              "      gap: 12px;\n",
              "    }\n",
              "\n",
              "    .colab-df-convert {\n",
              "      background-color: #E8F0FE;\n",
              "      border: none;\n",
              "      border-radius: 50%;\n",
              "      cursor: pointer;\n",
              "      display: none;\n",
              "      fill: #1967D2;\n",
              "      height: 32px;\n",
              "      padding: 0 0 0 0;\n",
              "      width: 32px;\n",
              "    }\n",
              "\n",
              "    .colab-df-convert:hover {\n",
              "      background-color: #E2EBFA;\n",
              "      box-shadow: 0px 1px 2px rgba(60, 64, 67, 0.3), 0px 1px 3px 1px rgba(60, 64, 67, 0.15);\n",
              "      fill: #174EA6;\n",
              "    }\n",
              "\n",
              "    .colab-df-buttons div {\n",
              "      margin-bottom: 4px;\n",
              "    }\n",
              "\n",
              "    [theme=dark] .colab-df-convert {\n",
              "      background-color: #3B4455;\n",
              "      fill: #D2E3FC;\n",
              "    }\n",
              "\n",
              "    [theme=dark] .colab-df-convert:hover {\n",
              "      background-color: #434B5C;\n",
              "      box-shadow: 0px 1px 3px 1px rgba(0, 0, 0, 0.15);\n",
              "      filter: drop-shadow(0px 1px 2px rgba(0, 0, 0, 0.3));\n",
              "      fill: #FFFFFF;\n",
              "    }\n",
              "  </style>\n",
              "\n",
              "    <script>\n",
              "      const buttonEl =\n",
              "        document.querySelector('#df-112c2f9c-60e8-4701-965a-c6b6d2763ee3 button.colab-df-convert');\n",
              "      buttonEl.style.display =\n",
              "        google.colab.kernel.accessAllowed ? 'block' : 'none';\n",
              "\n",
              "      async function convertToInteractive(key) {\n",
              "        const element = document.querySelector('#df-112c2f9c-60e8-4701-965a-c6b6d2763ee3');\n",
              "        const dataTable =\n",
              "          await google.colab.kernel.invokeFunction('convertToInteractive',\n",
              "                                                    [key], {});\n",
              "        if (!dataTable) return;\n",
              "\n",
              "        const docLinkHtml = 'Like what you see? Visit the ' +\n",
              "          '<a target=\"_blank\" href=https://colab.research.google.com/notebooks/data_table.ipynb>data table notebook</a>'\n",
              "          + ' to learn more about interactive tables.';\n",
              "        element.innerHTML = '';\n",
              "        dataTable['output_type'] = 'display_data';\n",
              "        await google.colab.output.renderOutput(dataTable, element);\n",
              "        const docLink = document.createElement('div');\n",
              "        docLink.innerHTML = docLinkHtml;\n",
              "        element.appendChild(docLink);\n",
              "      }\n",
              "    </script>\n",
              "  </div>\n",
              "\n",
              "\n",
              "<div id=\"df-c1aaa251-77de-4516-97f4-936623a5664c\">\n",
              "  <button class=\"colab-df-quickchart\" onclick=\"quickchart('df-c1aaa251-77de-4516-97f4-936623a5664c')\"\n",
              "            title=\"Suggest charts\"\n",
              "            style=\"display:none;\">\n",
              "\n",
              "<svg xmlns=\"http://www.w3.org/2000/svg\" height=\"24px\"viewBox=\"0 0 24 24\"\n",
              "     width=\"24px\">\n",
              "    <g>\n",
              "        <path d=\"M19 3H5c-1.1 0-2 .9-2 2v14c0 1.1.9 2 2 2h14c1.1 0 2-.9 2-2V5c0-1.1-.9-2-2-2zM9 17H7v-7h2v7zm4 0h-2V7h2v10zm4 0h-2v-4h2v4z\"/>\n",
              "    </g>\n",
              "</svg>\n",
              "  </button>\n",
              "\n",
              "<style>\n",
              "  .colab-df-quickchart {\n",
              "      --bg-color: #E8F0FE;\n",
              "      --fill-color: #1967D2;\n",
              "      --hover-bg-color: #E2EBFA;\n",
              "      --hover-fill-color: #174EA6;\n",
              "      --disabled-fill-color: #AAA;\n",
              "      --disabled-bg-color: #DDD;\n",
              "  }\n",
              "\n",
              "  [theme=dark] .colab-df-quickchart {\n",
              "      --bg-color: #3B4455;\n",
              "      --fill-color: #D2E3FC;\n",
              "      --hover-bg-color: #434B5C;\n",
              "      --hover-fill-color: #FFFFFF;\n",
              "      --disabled-bg-color: #3B4455;\n",
              "      --disabled-fill-color: #666;\n",
              "  }\n",
              "\n",
              "  .colab-df-quickchart {\n",
              "    background-color: var(--bg-color);\n",
              "    border: none;\n",
              "    border-radius: 50%;\n",
              "    cursor: pointer;\n",
              "    display: none;\n",
              "    fill: var(--fill-color);\n",
              "    height: 32px;\n",
              "    padding: 0;\n",
              "    width: 32px;\n",
              "  }\n",
              "\n",
              "  .colab-df-quickchart:hover {\n",
              "    background-color: var(--hover-bg-color);\n",
              "    box-shadow: 0 1px 2px rgba(60, 64, 67, 0.3), 0 1px 3px 1px rgba(60, 64, 67, 0.15);\n",
              "    fill: var(--button-hover-fill-color);\n",
              "  }\n",
              "\n",
              "  .colab-df-quickchart-complete:disabled,\n",
              "  .colab-df-quickchart-complete:disabled:hover {\n",
              "    background-color: var(--disabled-bg-color);\n",
              "    fill: var(--disabled-fill-color);\n",
              "    box-shadow: none;\n",
              "  }\n",
              "\n",
              "  .colab-df-spinner {\n",
              "    border: 2px solid var(--fill-color);\n",
              "    border-color: transparent;\n",
              "    border-bottom-color: var(--fill-color);\n",
              "    animation:\n",
              "      spin 1s steps(1) infinite;\n",
              "  }\n",
              "\n",
              "  @keyframes spin {\n",
              "    0% {\n",
              "      border-color: transparent;\n",
              "      border-bottom-color: var(--fill-color);\n",
              "      border-left-color: var(--fill-color);\n",
              "    }\n",
              "    20% {\n",
              "      border-color: transparent;\n",
              "      border-left-color: var(--fill-color);\n",
              "      border-top-color: var(--fill-color);\n",
              "    }\n",
              "    30% {\n",
              "      border-color: transparent;\n",
              "      border-left-color: var(--fill-color);\n",
              "      border-top-color: var(--fill-color);\n",
              "      border-right-color: var(--fill-color);\n",
              "    }\n",
              "    40% {\n",
              "      border-color: transparent;\n",
              "      border-right-color: var(--fill-color);\n",
              "      border-top-color: var(--fill-color);\n",
              "    }\n",
              "    60% {\n",
              "      border-color: transparent;\n",
              "      border-right-color: var(--fill-color);\n",
              "    }\n",
              "    80% {\n",
              "      border-color: transparent;\n",
              "      border-right-color: var(--fill-color);\n",
              "      border-bottom-color: var(--fill-color);\n",
              "    }\n",
              "    90% {\n",
              "      border-color: transparent;\n",
              "      border-bottom-color: var(--fill-color);\n",
              "    }\n",
              "  }\n",
              "</style>\n",
              "\n",
              "  <script>\n",
              "    async function quickchart(key) {\n",
              "      const quickchartButtonEl =\n",
              "        document.querySelector('#' + key + ' button');\n",
              "      quickchartButtonEl.disabled = true;  // To prevent multiple clicks.\n",
              "      quickchartButtonEl.classList.add('colab-df-spinner');\n",
              "      try {\n",
              "        const charts = await google.colab.kernel.invokeFunction(\n",
              "            'suggestCharts', [key], {});\n",
              "      } catch (error) {\n",
              "        console.error('Error during call to suggestCharts:', error);\n",
              "      }\n",
              "      quickchartButtonEl.classList.remove('colab-df-spinner');\n",
              "      quickchartButtonEl.classList.add('colab-df-quickchart-complete');\n",
              "    }\n",
              "    (() => {\n",
              "      let quickchartButtonEl =\n",
              "        document.querySelector('#df-c1aaa251-77de-4516-97f4-936623a5664c button');\n",
              "      quickchartButtonEl.style.display =\n",
              "        google.colab.kernel.accessAllowed ? 'block' : 'none';\n",
              "    })();\n",
              "  </script>\n",
              "</div>\n",
              "\n",
              "    </div>\n",
              "  </div>\n"
            ],
            "application/vnd.google.colaboratory.intrinsic+json": {
              "type": "dataframe",
              "summary": "{\n  \"name\": \"pd\",\n  \"rows\": 2,\n  \"fields\": [\n    {\n      \"column\": \"label\",\n      \"properties\": {\n        \"dtype\": \"string\",\n        \"num_unique_values\": 2,\n        \"samples\": [\n          \"B\",\n          \"A\"\n        ],\n        \"semantic_type\": \"\",\n        \"description\": \"\"\n      }\n    },\n    {\n      \"column\": \"lower_whisker\",\n      \"properties\": {\n        \"dtype\": \"number\",\n        \"std\": 1,\n        \"min\": 34,\n        \"max\": 36,\n        \"num_unique_values\": 2,\n        \"samples\": [\n          34,\n          36\n        ],\n        \"semantic_type\": \"\",\n        \"description\": \"\"\n      }\n    },\n    {\n      \"column\": \"lower_quartile\",\n      \"properties\": {\n        \"dtype\": \"number\",\n        \"std\": 0.7071067811865476,\n        \"min\": 43.0,\n        \"max\": 44.0,\n        \"num_unique_values\": 2,\n        \"samples\": [\n          44.0,\n          43.0\n        ],\n        \"semantic_type\": \"\",\n        \"description\": \"\"\n      }\n    },\n    {\n      \"column\": \"median\",\n      \"properties\": {\n        \"dtype\": \"number\",\n        \"std\": 1.0606601717798212,\n        \"min\": 45.5,\n        \"max\": 47.0,\n        \"num_unique_values\": 2,\n        \"samples\": [\n          47.0,\n          45.5\n        ],\n        \"semantic_type\": \"\",\n        \"description\": \"\"\n      }\n    },\n    {\n      \"column\": \"upper_quartile\",\n      \"properties\": {\n        \"dtype\": \"number\",\n        \"std\": 1.4142135623730951,\n        \"min\": 48.0,\n        \"max\": 50.0,\n        \"num_unique_values\": 2,\n        \"samples\": [\n          50.0,\n          48.0\n        ],\n        \"semantic_type\": \"\",\n        \"description\": \"\"\n      }\n    },\n    {\n      \"column\": \"upper_whisker\",\n      \"properties\": {\n        \"dtype\": \"number\",\n        \"std\": 2,\n        \"min\": 55,\n        \"max\": 58,\n        \"num_unique_values\": 2,\n        \"samples\": [\n          58,\n          55\n        ],\n        \"semantic_type\": \"\",\n        \"description\": \"\"\n      }\n    }\n  ]\n}"
            }
          },
          "metadata": {},
          "execution_count": 18
        }
      ],
      "source": [
        "# TODO: Calculate the values of the boxplot parameters.\n",
        "\n",
        "rows_list = []\n",
        "\n",
        "d = {}\n",
        "d['label'] = 'A'\n",
        "d['lower_whisker'] = np.min(A) # TODO\n",
        "d['lower_quartile'] = np.percentile(A, 25) # TODO\n",
        "d['median'] = np.median(A) # TODO\n",
        "d['upper_quartile'] = np.percentile(A, 75) # TODO\n",
        "d['upper_whisker'] = np.max(A) # TODO\n",
        "rows_list.append(d)\n",
        "\n",
        "d = {}\n",
        "d['label'] = 'B'\n",
        "d['lower_whisker'] = np.min(B) # TODO\n",
        "d['lower_quartile'] = np.percentile(B, 25) # TODO\n",
        "d['median'] = np.median(B) # TODO\n",
        "d['upper_quartile'] = np.percentile(B, 75) # TODO\n",
        "d['upper_whisker'] = np.max(B) # TODO\n",
        "rows_list.append(d)\n",
        "\n",
        "pd.DataFrame(rows_list)"
      ]
    },
    {
      "cell_type": "markdown",
      "metadata": {
        "id": "bda3e09c-be2b-409a-ba05-34dc647b06a2"
      },
      "source": [
        "# 2. (10 pts) Inferential statistics"
      ]
    },
    {
      "cell_type": "markdown",
      "metadata": {
        "id": "da628904-2805-4979-b381-50853b4fc553"
      },
      "source": [
        "## (a) Running a t-test\n",
        "We want to know the likelihood that the difference between these two distributions is due to chance (or, alternately, due to some difference between algorithms A and B). We can use a two-tailed independent t-test to do this. Calculate the p-value of the t-test. Answer if it's significant.\n",
        "\n",
        "https://docs.scipy.org/doc/scipy/reference/generated/scipy.stats.ttest_ind.html"
      ]
    },
    {
      "cell_type": "code",
      "execution_count": null,
      "metadata": {
        "id": "7e363563-e8d4-426e-83cf-b6153e8249fa"
      },
      "outputs": [],
      "source": [
        "from scipy import stats"
      ]
    },
    {
      "cell_type": "code",
      "execution_count": null,
      "metadata": {
        "id": "80da97ac-5529-4c11-9e69-21402f0fd37d",
        "colab": {
          "base_uri": "https://localhost:8080/"
        },
        "outputId": "7d6f597b-a4b1-437c-814f-9d91aee59de6"
      },
      "outputs": [
        {
          "output_type": "stream",
          "name": "stdout",
          "text": [
            "T-statistic: -1.582527621594864\n",
            "P-value: 0.11512517100030144\n"
          ]
        }
      ],
      "source": [
        "# TODO: Run a two-tailed independent t-test on the data. Hint: scipy.stats.ttest_ind will be useful\n",
        "t_statistic, p_value = stats.ttest_ind(A, B)\n",
        "print(\"T-statistic:\", t_statistic)\n",
        "print(\"P-value:\", p_value)\n",
        "A_increase = A + 4\n",
        "B_increase = B + 4"
      ]
    },
    {
      "cell_type": "markdown",
      "metadata": {
        "id": "b5674ab6-539f-4c0e-a12b-f9ccf22fa94c"
      },
      "source": [
        "Is the test result significant?"
      ]
    },
    {
      "cell_type": "markdown",
      "metadata": {
        "id": "53c73c03-f834-4f0e-a538-fa35c47a1327"
      },
      "source": [
        "Answer: No. Since the p-value is 0.115 which is greater than 0.05, it is not significant."
      ]
    },
    {
      "cell_type": "markdown",
      "metadata": {
        "id": "a8738e96-b3f9-486a-984c-56662f34dd2d"
      },
      "source": [
        "# 3. (10 pts) Variations on a theme\n",
        "Let’s play with the numbers to understand how differences in the data affect the descriptive\n",
        "and inferential statistics. We’ll first create two new datasets.\n"
      ]
    },
    {
      "cell_type": "markdown",
      "metadata": {
        "id": "b6909b8e-01c5-4c78-a2d0-1febaa7e9c01"
      },
      "source": [
        "## (a) In two new columns of the dataframe (called 'A increase' and 'B increase'), add 4 to the respective values from columns A and B."
      ]
    },
    {
      "cell_type": "code",
      "execution_count": null,
      "metadata": {
        "id": "9da05738-a7f2-4a3f-a84f-35c3aa29ffb0"
      },
      "outputs": [],
      "source": [
        "# TODO: Add 4 to all of the respective values from group A and group B.\n",
        "\n",
        "A_increase = A + 4\n",
        "B_increase = B + 4"
      ]
    },
    {
      "cell_type": "markdown",
      "metadata": {
        "id": "f8dd1233-049b-4c1a-93de-9d29c5d10ffa"
      },
      "source": [
        "## (b) Next, let’s reduce the variance of the data.\n",
        "We can lower the variance of each data point $x$ but retain the same mean $\\bar{X}$ by applying the formula $\\bar{X} + \\frac{x-\\bar{X}}{2} $. For each data point in the original dataset, apply that formula and put the results in the variables below."
      ]
    },
    {
      "cell_type": "code",
      "execution_count": null,
      "metadata": {
        "id": "e64e3890-3a28-46c9-9fd1-b30fb007ea86"
      },
      "outputs": [],
      "source": [
        "# TODO: Compute the reduced variance datasets. Create two new columns in the dataframe titled \"A scale\" and \"B scale\"\n",
        "\n",
        "A_scale = np.mean(A) + (A - np.mean(A)) / 2\n",
        "B_scale = np.mean(B) + (B - np.mean(B)) / 2"
      ]
    },
    {
      "cell_type": "code",
      "execution_count": null,
      "metadata": {
        "id": "b23ac04f-3cfb-45bf-929a-4ee8808b19e4",
        "colab": {
          "base_uri": "https://localhost:8080/",
          "height": 206
        },
        "outputId": "bd76160d-464a-401c-81f3-58aff8920c83"
      },
      "outputs": [
        {
          "output_type": "execute_result",
          "data": {
            "text/plain": [
              "    A   B  A increase  B increase  A scale  B scale\n",
              "0  36  34          40          38   40.745    40.22\n",
              "1  37  42          41          46   41.245    44.22\n",
              "2  38  36          42          40   41.745    41.22\n",
              "3  38  40          42          44   41.745    43.22\n",
              "4  38  44          42          48   41.745    45.22"
            ],
            "text/html": [
              "\n",
              "  <div id=\"df-9aeb6aa1-7e5d-4bdf-9cbb-09946dd33b9d\" class=\"colab-df-container\">\n",
              "    <div>\n",
              "<style scoped>\n",
              "    .dataframe tbody tr th:only-of-type {\n",
              "        vertical-align: middle;\n",
              "    }\n",
              "\n",
              "    .dataframe tbody tr th {\n",
              "        vertical-align: top;\n",
              "    }\n",
              "\n",
              "    .dataframe thead th {\n",
              "        text-align: right;\n",
              "    }\n",
              "</style>\n",
              "<table border=\"1\" class=\"dataframe\">\n",
              "  <thead>\n",
              "    <tr style=\"text-align: right;\">\n",
              "      <th></th>\n",
              "      <th>A</th>\n",
              "      <th>B</th>\n",
              "      <th>A increase</th>\n",
              "      <th>B increase</th>\n",
              "      <th>A scale</th>\n",
              "      <th>B scale</th>\n",
              "    </tr>\n",
              "  </thead>\n",
              "  <tbody>\n",
              "    <tr>\n",
              "      <th>0</th>\n",
              "      <td>36</td>\n",
              "      <td>34</td>\n",
              "      <td>40</td>\n",
              "      <td>38</td>\n",
              "      <td>40.745</td>\n",
              "      <td>40.22</td>\n",
              "    </tr>\n",
              "    <tr>\n",
              "      <th>1</th>\n",
              "      <td>37</td>\n",
              "      <td>42</td>\n",
              "      <td>41</td>\n",
              "      <td>46</td>\n",
              "      <td>41.245</td>\n",
              "      <td>44.22</td>\n",
              "    </tr>\n",
              "    <tr>\n",
              "      <th>2</th>\n",
              "      <td>38</td>\n",
              "      <td>36</td>\n",
              "      <td>42</td>\n",
              "      <td>40</td>\n",
              "      <td>41.745</td>\n",
              "      <td>41.22</td>\n",
              "    </tr>\n",
              "    <tr>\n",
              "      <th>3</th>\n",
              "      <td>38</td>\n",
              "      <td>40</td>\n",
              "      <td>42</td>\n",
              "      <td>44</td>\n",
              "      <td>41.745</td>\n",
              "      <td>43.22</td>\n",
              "    </tr>\n",
              "    <tr>\n",
              "      <th>4</th>\n",
              "      <td>38</td>\n",
              "      <td>44</td>\n",
              "      <td>42</td>\n",
              "      <td>48</td>\n",
              "      <td>41.745</td>\n",
              "      <td>45.22</td>\n",
              "    </tr>\n",
              "  </tbody>\n",
              "</table>\n",
              "</div>\n",
              "    <div class=\"colab-df-buttons\">\n",
              "\n",
              "  <div class=\"colab-df-container\">\n",
              "    <button class=\"colab-df-convert\" onclick=\"convertToInteractive('df-9aeb6aa1-7e5d-4bdf-9cbb-09946dd33b9d')\"\n",
              "            title=\"Convert this dataframe to an interactive table.\"\n",
              "            style=\"display:none;\">\n",
              "\n",
              "  <svg xmlns=\"http://www.w3.org/2000/svg\" height=\"24px\" viewBox=\"0 -960 960 960\">\n",
              "    <path d=\"M120-120v-720h720v720H120Zm60-500h600v-160H180v160Zm220 220h160v-160H400v160Zm0 220h160v-160H400v160ZM180-400h160v-160H180v160Zm440 0h160v-160H620v160ZM180-180h160v-160H180v160Zm440 0h160v-160H620v160Z\"/>\n",
              "  </svg>\n",
              "    </button>\n",
              "\n",
              "  <style>\n",
              "    .colab-df-container {\n",
              "      display:flex;\n",
              "      gap: 12px;\n",
              "    }\n",
              "\n",
              "    .colab-df-convert {\n",
              "      background-color: #E8F0FE;\n",
              "      border: none;\n",
              "      border-radius: 50%;\n",
              "      cursor: pointer;\n",
              "      display: none;\n",
              "      fill: #1967D2;\n",
              "      height: 32px;\n",
              "      padding: 0 0 0 0;\n",
              "      width: 32px;\n",
              "    }\n",
              "\n",
              "    .colab-df-convert:hover {\n",
              "      background-color: #E2EBFA;\n",
              "      box-shadow: 0px 1px 2px rgba(60, 64, 67, 0.3), 0px 1px 3px 1px rgba(60, 64, 67, 0.15);\n",
              "      fill: #174EA6;\n",
              "    }\n",
              "\n",
              "    .colab-df-buttons div {\n",
              "      margin-bottom: 4px;\n",
              "    }\n",
              "\n",
              "    [theme=dark] .colab-df-convert {\n",
              "      background-color: #3B4455;\n",
              "      fill: #D2E3FC;\n",
              "    }\n",
              "\n",
              "    [theme=dark] .colab-df-convert:hover {\n",
              "      background-color: #434B5C;\n",
              "      box-shadow: 0px 1px 3px 1px rgba(0, 0, 0, 0.15);\n",
              "      filter: drop-shadow(0px 1px 2px rgba(0, 0, 0, 0.3));\n",
              "      fill: #FFFFFF;\n",
              "    }\n",
              "  </style>\n",
              "\n",
              "    <script>\n",
              "      const buttonEl =\n",
              "        document.querySelector('#df-9aeb6aa1-7e5d-4bdf-9cbb-09946dd33b9d button.colab-df-convert');\n",
              "      buttonEl.style.display =\n",
              "        google.colab.kernel.accessAllowed ? 'block' : 'none';\n",
              "\n",
              "      async function convertToInteractive(key) {\n",
              "        const element = document.querySelector('#df-9aeb6aa1-7e5d-4bdf-9cbb-09946dd33b9d');\n",
              "        const dataTable =\n",
              "          await google.colab.kernel.invokeFunction('convertToInteractive',\n",
              "                                                    [key], {});\n",
              "        if (!dataTable) return;\n",
              "\n",
              "        const docLinkHtml = 'Like what you see? Visit the ' +\n",
              "          '<a target=\"_blank\" href=https://colab.research.google.com/notebooks/data_table.ipynb>data table notebook</a>'\n",
              "          + ' to learn more about interactive tables.';\n",
              "        element.innerHTML = '';\n",
              "        dataTable['output_type'] = 'display_data';\n",
              "        await google.colab.output.renderOutput(dataTable, element);\n",
              "        const docLink = document.createElement('div');\n",
              "        docLink.innerHTML = docLinkHtml;\n",
              "        element.appendChild(docLink);\n",
              "      }\n",
              "    </script>\n",
              "  </div>\n",
              "\n",
              "\n",
              "<div id=\"df-50d80580-c6e1-4fe8-8021-fc3d79756f87\">\n",
              "  <button class=\"colab-df-quickchart\" onclick=\"quickchart('df-50d80580-c6e1-4fe8-8021-fc3d79756f87')\"\n",
              "            title=\"Suggest charts\"\n",
              "            style=\"display:none;\">\n",
              "\n",
              "<svg xmlns=\"http://www.w3.org/2000/svg\" height=\"24px\"viewBox=\"0 0 24 24\"\n",
              "     width=\"24px\">\n",
              "    <g>\n",
              "        <path d=\"M19 3H5c-1.1 0-2 .9-2 2v14c0 1.1.9 2 2 2h14c1.1 0 2-.9 2-2V5c0-1.1-.9-2-2-2zM9 17H7v-7h2v7zm4 0h-2V7h2v10zm4 0h-2v-4h2v4z\"/>\n",
              "    </g>\n",
              "</svg>\n",
              "  </button>\n",
              "\n",
              "<style>\n",
              "  .colab-df-quickchart {\n",
              "      --bg-color: #E8F0FE;\n",
              "      --fill-color: #1967D2;\n",
              "      --hover-bg-color: #E2EBFA;\n",
              "      --hover-fill-color: #174EA6;\n",
              "      --disabled-fill-color: #AAA;\n",
              "      --disabled-bg-color: #DDD;\n",
              "  }\n",
              "\n",
              "  [theme=dark] .colab-df-quickchart {\n",
              "      --bg-color: #3B4455;\n",
              "      --fill-color: #D2E3FC;\n",
              "      --hover-bg-color: #434B5C;\n",
              "      --hover-fill-color: #FFFFFF;\n",
              "      --disabled-bg-color: #3B4455;\n",
              "      --disabled-fill-color: #666;\n",
              "  }\n",
              "\n",
              "  .colab-df-quickchart {\n",
              "    background-color: var(--bg-color);\n",
              "    border: none;\n",
              "    border-radius: 50%;\n",
              "    cursor: pointer;\n",
              "    display: none;\n",
              "    fill: var(--fill-color);\n",
              "    height: 32px;\n",
              "    padding: 0;\n",
              "    width: 32px;\n",
              "  }\n",
              "\n",
              "  .colab-df-quickchart:hover {\n",
              "    background-color: var(--hover-bg-color);\n",
              "    box-shadow: 0 1px 2px rgba(60, 64, 67, 0.3), 0 1px 3px 1px rgba(60, 64, 67, 0.15);\n",
              "    fill: var(--button-hover-fill-color);\n",
              "  }\n",
              "\n",
              "  .colab-df-quickchart-complete:disabled,\n",
              "  .colab-df-quickchart-complete:disabled:hover {\n",
              "    background-color: var(--disabled-bg-color);\n",
              "    fill: var(--disabled-fill-color);\n",
              "    box-shadow: none;\n",
              "  }\n",
              "\n",
              "  .colab-df-spinner {\n",
              "    border: 2px solid var(--fill-color);\n",
              "    border-color: transparent;\n",
              "    border-bottom-color: var(--fill-color);\n",
              "    animation:\n",
              "      spin 1s steps(1) infinite;\n",
              "  }\n",
              "\n",
              "  @keyframes spin {\n",
              "    0% {\n",
              "      border-color: transparent;\n",
              "      border-bottom-color: var(--fill-color);\n",
              "      border-left-color: var(--fill-color);\n",
              "    }\n",
              "    20% {\n",
              "      border-color: transparent;\n",
              "      border-left-color: var(--fill-color);\n",
              "      border-top-color: var(--fill-color);\n",
              "    }\n",
              "    30% {\n",
              "      border-color: transparent;\n",
              "      border-left-color: var(--fill-color);\n",
              "      border-top-color: var(--fill-color);\n",
              "      border-right-color: var(--fill-color);\n",
              "    }\n",
              "    40% {\n",
              "      border-color: transparent;\n",
              "      border-right-color: var(--fill-color);\n",
              "      border-top-color: var(--fill-color);\n",
              "    }\n",
              "    60% {\n",
              "      border-color: transparent;\n",
              "      border-right-color: var(--fill-color);\n",
              "    }\n",
              "    80% {\n",
              "      border-color: transparent;\n",
              "      border-right-color: var(--fill-color);\n",
              "      border-bottom-color: var(--fill-color);\n",
              "    }\n",
              "    90% {\n",
              "      border-color: transparent;\n",
              "      border-bottom-color: var(--fill-color);\n",
              "    }\n",
              "  }\n",
              "</style>\n",
              "\n",
              "  <script>\n",
              "    async function quickchart(key) {\n",
              "      const quickchartButtonEl =\n",
              "        document.querySelector('#' + key + ' button');\n",
              "      quickchartButtonEl.disabled = true;  // To prevent multiple clicks.\n",
              "      quickchartButtonEl.classList.add('colab-df-spinner');\n",
              "      try {\n",
              "        const charts = await google.colab.kernel.invokeFunction(\n",
              "            'suggestCharts', [key], {});\n",
              "      } catch (error) {\n",
              "        console.error('Error during call to suggestCharts:', error);\n",
              "      }\n",
              "      quickchartButtonEl.classList.remove('colab-df-spinner');\n",
              "      quickchartButtonEl.classList.add('colab-df-quickchart-complete');\n",
              "    }\n",
              "    (() => {\n",
              "      let quickchartButtonEl =\n",
              "        document.querySelector('#df-50d80580-c6e1-4fe8-8021-fc3d79756f87 button');\n",
              "      quickchartButtonEl.style.display =\n",
              "        google.colab.kernel.accessAllowed ? 'block' : 'none';\n",
              "    })();\n",
              "  </script>\n",
              "</div>\n",
              "\n",
              "    </div>\n",
              "  </div>\n"
            ],
            "application/vnd.google.colaboratory.intrinsic+json": {
              "type": "dataframe",
              "variable_name": "df",
              "summary": "{\n  \"name\": \"df\",\n  \"rows\": 100,\n  \"fields\": [\n    {\n      \"column\": \"A\",\n      \"properties\": {\n        \"dtype\": \"number\",\n        \"std\": 3,\n        \"min\": 36,\n        \"max\": 55,\n        \"num_unique_values\": 20,\n        \"samples\": [\n          36,\n          53,\n          51\n        ],\n        \"semantic_type\": \"\",\n        \"description\": \"\"\n      }\n    },\n    {\n      \"column\": \"B\",\n      \"properties\": {\n        \"dtype\": \"number\",\n        \"std\": 4,\n        \"min\": 34,\n        \"max\": 58,\n        \"num_unique_values\": 21,\n        \"samples\": [\n          34,\n          54,\n          51\n        ],\n        \"semantic_type\": \"\",\n        \"description\": \"\"\n      }\n    },\n    {\n      \"column\": \"A increase\",\n      \"properties\": {\n        \"dtype\": \"number\",\n        \"std\": 3,\n        \"min\": 40,\n        \"max\": 59,\n        \"num_unique_values\": 20,\n        \"samples\": [\n          40,\n          57,\n          55\n        ],\n        \"semantic_type\": \"\",\n        \"description\": \"\"\n      }\n    },\n    {\n      \"column\": \"B increase\",\n      \"properties\": {\n        \"dtype\": \"number\",\n        \"std\": 4,\n        \"min\": 38,\n        \"max\": 62,\n        \"num_unique_values\": 21,\n        \"samples\": [\n          38,\n          58,\n          55\n        ],\n        \"semantic_type\": \"\",\n        \"description\": \"\"\n      }\n    },\n    {\n      \"column\": \"A scale\",\n      \"properties\": {\n        \"dtype\": \"number\",\n        \"std\": 1.9688162366603377,\n        \"min\": 40.745000000000005,\n        \"max\": 50.245000000000005,\n        \"num_unique_values\": 20,\n        \"samples\": [\n          40.745000000000005,\n          49.245000000000005,\n          48.245000000000005\n        ],\n        \"semantic_type\": \"\",\n        \"description\": \"\"\n      }\n    },\n    {\n      \"column\": \"B scale\",\n      \"properties\": {\n        \"dtype\": \"number\",\n        \"std\": 2.2655968955066323,\n        \"min\": 40.22,\n        \"max\": 52.22,\n        \"num_unique_values\": 21,\n        \"samples\": [\n          40.22,\n          50.22,\n          48.72\n        ],\n        \"semantic_type\": \"\",\n        \"description\": \"\"\n      }\n    }\n  ]\n}"
            }
          },
          "metadata": {},
          "execution_count": 24
        }
      ],
      "source": [
        "df = pd.DataFrame({'A': A, 'B': B, 'A increase': A_increase, 'B increase': B_increase, 'A scale': A_scale, 'B scale': B_scale})\n",
        "df.head()"
      ]
    },
    {
      "cell_type": "markdown",
      "metadata": {
        "id": "50e477a7-d0a2-490c-b022-eaf6a43431de"
      },
      "source": [
        "# 4. (20 pts) Descriptive statistics and visualizations, part 2\n",
        "Let’s look at how the changes we made in Question 3 affect the descriptive statistics and\n",
        "visualizations."
      ]
    },
    {
      "cell_type": "markdown",
      "metadata": {
        "id": "0d3f68d6-4d11-45ba-84c8-6926acb44aec"
      },
      "source": [
        "## (a) Calculate the mean, median, and standard deviation for the new “Increase” and “Scale” data."
      ]
    },
    {
      "cell_type": "code",
      "execution_count": null,
      "metadata": {
        "id": "1ce554b4-e7d7-43b4-92c6-70a22262072a"
      },
      "outputs": [],
      "source": [
        "# TODO: Calculate the median, mean, and standard deviation for the new \"Increase\" and \"Scale\" data.\n",
        "increase_stats = {\n",
        "    'label': ['A increase', 'B increase'],\n",
        "    'mean': [np.mean(A_increase), np.mean(B_increase)],\n",
        "    'median': [np.median(A_increase), np.median(B_increase)],\n",
        "    'std': [np.std(A_increase), np.std(B_increase)]\n",
        "}\n",
        "\n",
        "scale_stats = {\n",
        "    'label': ['A scale', 'B scale'],\n",
        "    'mean': [np.mean(A_scale), np.mean(B_scale)],\n",
        "    'median': [np.median(A_scale), np.median(B_scale)],\n",
        "    'std': [np.std(A_scale), np.std(B_scale)]\n",
        "}\n",
        "\n"
      ]
    },
    {
      "cell_type": "code",
      "execution_count": null,
      "metadata": {
        "id": "78237d69-d65c-41aa-ac88-891c8f2aebf9",
        "colab": {
          "base_uri": "https://localhost:8080/",
          "height": 220
        },
        "outputId": "675c0b1b-78b3-4bd5-ef0b-cf9e20f20224"
      },
      "outputs": [
        {
          "output_type": "display_data",
          "data": {
            "text/plain": [
              "        label   mean  median       std\n",
              "0  A increase  49.49    49.5  3.917895\n",
              "1  B increase  50.44    51.0  4.508481"
            ],
            "text/html": [
              "\n",
              "  <div id=\"df-343bf003-19ab-4423-a88e-19a2453313ac\" class=\"colab-df-container\">\n",
              "    <div>\n",
              "<style scoped>\n",
              "    .dataframe tbody tr th:only-of-type {\n",
              "        vertical-align: middle;\n",
              "    }\n",
              "\n",
              "    .dataframe tbody tr th {\n",
              "        vertical-align: top;\n",
              "    }\n",
              "\n",
              "    .dataframe thead th {\n",
              "        text-align: right;\n",
              "    }\n",
              "</style>\n",
              "<table border=\"1\" class=\"dataframe\">\n",
              "  <thead>\n",
              "    <tr style=\"text-align: right;\">\n",
              "      <th></th>\n",
              "      <th>label</th>\n",
              "      <th>mean</th>\n",
              "      <th>median</th>\n",
              "      <th>std</th>\n",
              "    </tr>\n",
              "  </thead>\n",
              "  <tbody>\n",
              "    <tr>\n",
              "      <th>0</th>\n",
              "      <td>A increase</td>\n",
              "      <td>49.49</td>\n",
              "      <td>49.5</td>\n",
              "      <td>3.917895</td>\n",
              "    </tr>\n",
              "    <tr>\n",
              "      <th>1</th>\n",
              "      <td>B increase</td>\n",
              "      <td>50.44</td>\n",
              "      <td>51.0</td>\n",
              "      <td>4.508481</td>\n",
              "    </tr>\n",
              "  </tbody>\n",
              "</table>\n",
              "</div>\n",
              "    <div class=\"colab-df-buttons\">\n",
              "\n",
              "  <div class=\"colab-df-container\">\n",
              "    <button class=\"colab-df-convert\" onclick=\"convertToInteractive('df-343bf003-19ab-4423-a88e-19a2453313ac')\"\n",
              "            title=\"Convert this dataframe to an interactive table.\"\n",
              "            style=\"display:none;\">\n",
              "\n",
              "  <svg xmlns=\"http://www.w3.org/2000/svg\" height=\"24px\" viewBox=\"0 -960 960 960\">\n",
              "    <path d=\"M120-120v-720h720v720H120Zm60-500h600v-160H180v160Zm220 220h160v-160H400v160Zm0 220h160v-160H400v160ZM180-400h160v-160H180v160Zm440 0h160v-160H620v160ZM180-180h160v-160H180v160Zm440 0h160v-160H620v160Z\"/>\n",
              "  </svg>\n",
              "    </button>\n",
              "\n",
              "  <style>\n",
              "    .colab-df-container {\n",
              "      display:flex;\n",
              "      gap: 12px;\n",
              "    }\n",
              "\n",
              "    .colab-df-convert {\n",
              "      background-color: #E8F0FE;\n",
              "      border: none;\n",
              "      border-radius: 50%;\n",
              "      cursor: pointer;\n",
              "      display: none;\n",
              "      fill: #1967D2;\n",
              "      height: 32px;\n",
              "      padding: 0 0 0 0;\n",
              "      width: 32px;\n",
              "    }\n",
              "\n",
              "    .colab-df-convert:hover {\n",
              "      background-color: #E2EBFA;\n",
              "      box-shadow: 0px 1px 2px rgba(60, 64, 67, 0.3), 0px 1px 3px 1px rgba(60, 64, 67, 0.15);\n",
              "      fill: #174EA6;\n",
              "    }\n",
              "\n",
              "    .colab-df-buttons div {\n",
              "      margin-bottom: 4px;\n",
              "    }\n",
              "\n",
              "    [theme=dark] .colab-df-convert {\n",
              "      background-color: #3B4455;\n",
              "      fill: #D2E3FC;\n",
              "    }\n",
              "\n",
              "    [theme=dark] .colab-df-convert:hover {\n",
              "      background-color: #434B5C;\n",
              "      box-shadow: 0px 1px 3px 1px rgba(0, 0, 0, 0.15);\n",
              "      filter: drop-shadow(0px 1px 2px rgba(0, 0, 0, 0.3));\n",
              "      fill: #FFFFFF;\n",
              "    }\n",
              "  </style>\n",
              "\n",
              "    <script>\n",
              "      const buttonEl =\n",
              "        document.querySelector('#df-343bf003-19ab-4423-a88e-19a2453313ac button.colab-df-convert');\n",
              "      buttonEl.style.display =\n",
              "        google.colab.kernel.accessAllowed ? 'block' : 'none';\n",
              "\n",
              "      async function convertToInteractive(key) {\n",
              "        const element = document.querySelector('#df-343bf003-19ab-4423-a88e-19a2453313ac');\n",
              "        const dataTable =\n",
              "          await google.colab.kernel.invokeFunction('convertToInteractive',\n",
              "                                                    [key], {});\n",
              "        if (!dataTable) return;\n",
              "\n",
              "        const docLinkHtml = 'Like what you see? Visit the ' +\n",
              "          '<a target=\"_blank\" href=https://colab.research.google.com/notebooks/data_table.ipynb>data table notebook</a>'\n",
              "          + ' to learn more about interactive tables.';\n",
              "        element.innerHTML = '';\n",
              "        dataTable['output_type'] = 'display_data';\n",
              "        await google.colab.output.renderOutput(dataTable, element);\n",
              "        const docLink = document.createElement('div');\n",
              "        docLink.innerHTML = docLinkHtml;\n",
              "        element.appendChild(docLink);\n",
              "      }\n",
              "    </script>\n",
              "  </div>\n",
              "\n",
              "\n",
              "<div id=\"df-e30c5a33-a287-4f35-a5b8-975ad7b6e0f8\">\n",
              "  <button class=\"colab-df-quickchart\" onclick=\"quickchart('df-e30c5a33-a287-4f35-a5b8-975ad7b6e0f8')\"\n",
              "            title=\"Suggest charts\"\n",
              "            style=\"display:none;\">\n",
              "\n",
              "<svg xmlns=\"http://www.w3.org/2000/svg\" height=\"24px\"viewBox=\"0 0 24 24\"\n",
              "     width=\"24px\">\n",
              "    <g>\n",
              "        <path d=\"M19 3H5c-1.1 0-2 .9-2 2v14c0 1.1.9 2 2 2h14c1.1 0 2-.9 2-2V5c0-1.1-.9-2-2-2zM9 17H7v-7h2v7zm4 0h-2V7h2v10zm4 0h-2v-4h2v4z\"/>\n",
              "    </g>\n",
              "</svg>\n",
              "  </button>\n",
              "\n",
              "<style>\n",
              "  .colab-df-quickchart {\n",
              "      --bg-color: #E8F0FE;\n",
              "      --fill-color: #1967D2;\n",
              "      --hover-bg-color: #E2EBFA;\n",
              "      --hover-fill-color: #174EA6;\n",
              "      --disabled-fill-color: #AAA;\n",
              "      --disabled-bg-color: #DDD;\n",
              "  }\n",
              "\n",
              "  [theme=dark] .colab-df-quickchart {\n",
              "      --bg-color: #3B4455;\n",
              "      --fill-color: #D2E3FC;\n",
              "      --hover-bg-color: #434B5C;\n",
              "      --hover-fill-color: #FFFFFF;\n",
              "      --disabled-bg-color: #3B4455;\n",
              "      --disabled-fill-color: #666;\n",
              "  }\n",
              "\n",
              "  .colab-df-quickchart {\n",
              "    background-color: var(--bg-color);\n",
              "    border: none;\n",
              "    border-radius: 50%;\n",
              "    cursor: pointer;\n",
              "    display: none;\n",
              "    fill: var(--fill-color);\n",
              "    height: 32px;\n",
              "    padding: 0;\n",
              "    width: 32px;\n",
              "  }\n",
              "\n",
              "  .colab-df-quickchart:hover {\n",
              "    background-color: var(--hover-bg-color);\n",
              "    box-shadow: 0 1px 2px rgba(60, 64, 67, 0.3), 0 1px 3px 1px rgba(60, 64, 67, 0.15);\n",
              "    fill: var(--button-hover-fill-color);\n",
              "  }\n",
              "\n",
              "  .colab-df-quickchart-complete:disabled,\n",
              "  .colab-df-quickchart-complete:disabled:hover {\n",
              "    background-color: var(--disabled-bg-color);\n",
              "    fill: var(--disabled-fill-color);\n",
              "    box-shadow: none;\n",
              "  }\n",
              "\n",
              "  .colab-df-spinner {\n",
              "    border: 2px solid var(--fill-color);\n",
              "    border-color: transparent;\n",
              "    border-bottom-color: var(--fill-color);\n",
              "    animation:\n",
              "      spin 1s steps(1) infinite;\n",
              "  }\n",
              "\n",
              "  @keyframes spin {\n",
              "    0% {\n",
              "      border-color: transparent;\n",
              "      border-bottom-color: var(--fill-color);\n",
              "      border-left-color: var(--fill-color);\n",
              "    }\n",
              "    20% {\n",
              "      border-color: transparent;\n",
              "      border-left-color: var(--fill-color);\n",
              "      border-top-color: var(--fill-color);\n",
              "    }\n",
              "    30% {\n",
              "      border-color: transparent;\n",
              "      border-left-color: var(--fill-color);\n",
              "      border-top-color: var(--fill-color);\n",
              "      border-right-color: var(--fill-color);\n",
              "    }\n",
              "    40% {\n",
              "      border-color: transparent;\n",
              "      border-right-color: var(--fill-color);\n",
              "      border-top-color: var(--fill-color);\n",
              "    }\n",
              "    60% {\n",
              "      border-color: transparent;\n",
              "      border-right-color: var(--fill-color);\n",
              "    }\n",
              "    80% {\n",
              "      border-color: transparent;\n",
              "      border-right-color: var(--fill-color);\n",
              "      border-bottom-color: var(--fill-color);\n",
              "    }\n",
              "    90% {\n",
              "      border-color: transparent;\n",
              "      border-bottom-color: var(--fill-color);\n",
              "    }\n",
              "  }\n",
              "</style>\n",
              "\n",
              "  <script>\n",
              "    async function quickchart(key) {\n",
              "      const quickchartButtonEl =\n",
              "        document.querySelector('#' + key + ' button');\n",
              "      quickchartButtonEl.disabled = true;  // To prevent multiple clicks.\n",
              "      quickchartButtonEl.classList.add('colab-df-spinner');\n",
              "      try {\n",
              "        const charts = await google.colab.kernel.invokeFunction(\n",
              "            'suggestCharts', [key], {});\n",
              "      } catch (error) {\n",
              "        console.error('Error during call to suggestCharts:', error);\n",
              "      }\n",
              "      quickchartButtonEl.classList.remove('colab-df-spinner');\n",
              "      quickchartButtonEl.classList.add('colab-df-quickchart-complete');\n",
              "    }\n",
              "    (() => {\n",
              "      let quickchartButtonEl =\n",
              "        document.querySelector('#df-e30c5a33-a287-4f35-a5b8-975ad7b6e0f8 button');\n",
              "      quickchartButtonEl.style.display =\n",
              "        google.colab.kernel.accessAllowed ? 'block' : 'none';\n",
              "    })();\n",
              "  </script>\n",
              "</div>\n",
              "\n",
              "  <div id=\"id_99865eb7-f430-4523-80c4-c27e43d56a7f\">\n",
              "    <style>\n",
              "      .colab-df-generate {\n",
              "        background-color: #E8F0FE;\n",
              "        border: none;\n",
              "        border-radius: 50%;\n",
              "        cursor: pointer;\n",
              "        display: none;\n",
              "        fill: #1967D2;\n",
              "        height: 32px;\n",
              "        padding: 0 0 0 0;\n",
              "        width: 32px;\n",
              "      }\n",
              "\n",
              "      .colab-df-generate:hover {\n",
              "        background-color: #E2EBFA;\n",
              "        box-shadow: 0px 1px 2px rgba(60, 64, 67, 0.3), 0px 1px 3px 1px rgba(60, 64, 67, 0.15);\n",
              "        fill: #174EA6;\n",
              "      }\n",
              "\n",
              "      [theme=dark] .colab-df-generate {\n",
              "        background-color: #3B4455;\n",
              "        fill: #D2E3FC;\n",
              "      }\n",
              "\n",
              "      [theme=dark] .colab-df-generate:hover {\n",
              "        background-color: #434B5C;\n",
              "        box-shadow: 0px 1px 3px 1px rgba(0, 0, 0, 0.15);\n",
              "        filter: drop-shadow(0px 1px 2px rgba(0, 0, 0, 0.3));\n",
              "        fill: #FFFFFF;\n",
              "      }\n",
              "    </style>\n",
              "    <button class=\"colab-df-generate\" onclick=\"generateWithVariable('increase_df')\"\n",
              "            title=\"Generate code using this dataframe.\"\n",
              "            style=\"display:none;\">\n",
              "\n",
              "  <svg xmlns=\"http://www.w3.org/2000/svg\" height=\"24px\"viewBox=\"0 0 24 24\"\n",
              "       width=\"24px\">\n",
              "    <path d=\"M7,19H8.4L18.45,9,17,7.55,7,17.6ZM5,21V16.75L18.45,3.32a2,2,0,0,1,2.83,0l1.4,1.43a1.91,1.91,0,0,1,.58,1.4,1.91,1.91,0,0,1-.58,1.4L9.25,21ZM18.45,9,17,7.55Zm-12,3A5.31,5.31,0,0,0,4.9,8.1,5.31,5.31,0,0,0,1,6.5,5.31,5.31,0,0,0,4.9,4.9,5.31,5.31,0,0,0,6.5,1,5.31,5.31,0,0,0,8.1,4.9,5.31,5.31,0,0,0,12,6.5,5.46,5.46,0,0,0,6.5,12Z\"/>\n",
              "  </svg>\n",
              "    </button>\n",
              "    <script>\n",
              "      (() => {\n",
              "      const buttonEl =\n",
              "        document.querySelector('#id_99865eb7-f430-4523-80c4-c27e43d56a7f button.colab-df-generate');\n",
              "      buttonEl.style.display =\n",
              "        google.colab.kernel.accessAllowed ? 'block' : 'none';\n",
              "\n",
              "      buttonEl.onclick = () => {\n",
              "        google.colab.notebook.generateWithVariable('increase_df');\n",
              "      }\n",
              "      })();\n",
              "    </script>\n",
              "  </div>\n",
              "\n",
              "    </div>\n",
              "  </div>\n"
            ],
            "application/vnd.google.colaboratory.intrinsic+json": {
              "type": "dataframe",
              "variable_name": "increase_df",
              "summary": "{\n  \"name\": \"increase_df\",\n  \"rows\": 2,\n  \"fields\": [\n    {\n      \"column\": \"label\",\n      \"properties\": {\n        \"dtype\": \"string\",\n        \"num_unique_values\": 2,\n        \"samples\": [\n          \"B increase\",\n          \"A increase\"\n        ],\n        \"semantic_type\": \"\",\n        \"description\": \"\"\n      }\n    },\n    {\n      \"column\": \"mean\",\n      \"properties\": {\n        \"dtype\": \"number\",\n        \"std\": 0.6717514421272172,\n        \"min\": 49.49,\n        \"max\": 50.44,\n        \"num_unique_values\": 2,\n        \"samples\": [\n          50.44,\n          49.49\n        ],\n        \"semantic_type\": \"\",\n        \"description\": \"\"\n      }\n    },\n    {\n      \"column\": \"median\",\n      \"properties\": {\n        \"dtype\": \"number\",\n        \"std\": 1.0606601717798212,\n        \"min\": 49.5,\n        \"max\": 51.0,\n        \"num_unique_values\": 2,\n        \"samples\": [\n          51.0,\n          49.5\n        ],\n        \"semantic_type\": \"\",\n        \"description\": \"\"\n      }\n    },\n    {\n      \"column\": \"std\",\n      \"properties\": {\n        \"dtype\": \"number\",\n        \"std\": 0.4176074038390341,\n        \"min\": 3.9178948428971396,\n        \"max\": 4.50848089715372,\n        \"num_unique_values\": 2,\n        \"samples\": [\n          4.50848089715372,\n          3.9178948428971396\n        ],\n        \"semantic_type\": \"\",\n        \"description\": \"\"\n      }\n    }\n  ]\n}"
            }
          },
          "metadata": {}
        },
        {
          "output_type": "display_data",
          "data": {
            "text/plain": [
              "     label   mean  median       std\n",
              "0  A scale  45.49  45.495  1.958947\n",
              "1  B scale  46.44  46.720  2.254240"
            ],
            "text/html": [
              "\n",
              "  <div id=\"df-5bc03d38-aea3-4b00-97ad-c406b176d27e\" class=\"colab-df-container\">\n",
              "    <div>\n",
              "<style scoped>\n",
              "    .dataframe tbody tr th:only-of-type {\n",
              "        vertical-align: middle;\n",
              "    }\n",
              "\n",
              "    .dataframe tbody tr th {\n",
              "        vertical-align: top;\n",
              "    }\n",
              "\n",
              "    .dataframe thead th {\n",
              "        text-align: right;\n",
              "    }\n",
              "</style>\n",
              "<table border=\"1\" class=\"dataframe\">\n",
              "  <thead>\n",
              "    <tr style=\"text-align: right;\">\n",
              "      <th></th>\n",
              "      <th>label</th>\n",
              "      <th>mean</th>\n",
              "      <th>median</th>\n",
              "      <th>std</th>\n",
              "    </tr>\n",
              "  </thead>\n",
              "  <tbody>\n",
              "    <tr>\n",
              "      <th>0</th>\n",
              "      <td>A scale</td>\n",
              "      <td>45.49</td>\n",
              "      <td>45.495</td>\n",
              "      <td>1.958947</td>\n",
              "    </tr>\n",
              "    <tr>\n",
              "      <th>1</th>\n",
              "      <td>B scale</td>\n",
              "      <td>46.44</td>\n",
              "      <td>46.720</td>\n",
              "      <td>2.254240</td>\n",
              "    </tr>\n",
              "  </tbody>\n",
              "</table>\n",
              "</div>\n",
              "    <div class=\"colab-df-buttons\">\n",
              "\n",
              "  <div class=\"colab-df-container\">\n",
              "    <button class=\"colab-df-convert\" onclick=\"convertToInteractive('df-5bc03d38-aea3-4b00-97ad-c406b176d27e')\"\n",
              "            title=\"Convert this dataframe to an interactive table.\"\n",
              "            style=\"display:none;\">\n",
              "\n",
              "  <svg xmlns=\"http://www.w3.org/2000/svg\" height=\"24px\" viewBox=\"0 -960 960 960\">\n",
              "    <path d=\"M120-120v-720h720v720H120Zm60-500h600v-160H180v160Zm220 220h160v-160H400v160Zm0 220h160v-160H400v160ZM180-400h160v-160H180v160Zm440 0h160v-160H620v160ZM180-180h160v-160H180v160Zm440 0h160v-160H620v160Z\"/>\n",
              "  </svg>\n",
              "    </button>\n",
              "\n",
              "  <style>\n",
              "    .colab-df-container {\n",
              "      display:flex;\n",
              "      gap: 12px;\n",
              "    }\n",
              "\n",
              "    .colab-df-convert {\n",
              "      background-color: #E8F0FE;\n",
              "      border: none;\n",
              "      border-radius: 50%;\n",
              "      cursor: pointer;\n",
              "      display: none;\n",
              "      fill: #1967D2;\n",
              "      height: 32px;\n",
              "      padding: 0 0 0 0;\n",
              "      width: 32px;\n",
              "    }\n",
              "\n",
              "    .colab-df-convert:hover {\n",
              "      background-color: #E2EBFA;\n",
              "      box-shadow: 0px 1px 2px rgba(60, 64, 67, 0.3), 0px 1px 3px 1px rgba(60, 64, 67, 0.15);\n",
              "      fill: #174EA6;\n",
              "    }\n",
              "\n",
              "    .colab-df-buttons div {\n",
              "      margin-bottom: 4px;\n",
              "    }\n",
              "\n",
              "    [theme=dark] .colab-df-convert {\n",
              "      background-color: #3B4455;\n",
              "      fill: #D2E3FC;\n",
              "    }\n",
              "\n",
              "    [theme=dark] .colab-df-convert:hover {\n",
              "      background-color: #434B5C;\n",
              "      box-shadow: 0px 1px 3px 1px rgba(0, 0, 0, 0.15);\n",
              "      filter: drop-shadow(0px 1px 2px rgba(0, 0, 0, 0.3));\n",
              "      fill: #FFFFFF;\n",
              "    }\n",
              "  </style>\n",
              "\n",
              "    <script>\n",
              "      const buttonEl =\n",
              "        document.querySelector('#df-5bc03d38-aea3-4b00-97ad-c406b176d27e button.colab-df-convert');\n",
              "      buttonEl.style.display =\n",
              "        google.colab.kernel.accessAllowed ? 'block' : 'none';\n",
              "\n",
              "      async function convertToInteractive(key) {\n",
              "        const element = document.querySelector('#df-5bc03d38-aea3-4b00-97ad-c406b176d27e');\n",
              "        const dataTable =\n",
              "          await google.colab.kernel.invokeFunction('convertToInteractive',\n",
              "                                                    [key], {});\n",
              "        if (!dataTable) return;\n",
              "\n",
              "        const docLinkHtml = 'Like what you see? Visit the ' +\n",
              "          '<a target=\"_blank\" href=https://colab.research.google.com/notebooks/data_table.ipynb>data table notebook</a>'\n",
              "          + ' to learn more about interactive tables.';\n",
              "        element.innerHTML = '';\n",
              "        dataTable['output_type'] = 'display_data';\n",
              "        await google.colab.output.renderOutput(dataTable, element);\n",
              "        const docLink = document.createElement('div');\n",
              "        docLink.innerHTML = docLinkHtml;\n",
              "        element.appendChild(docLink);\n",
              "      }\n",
              "    </script>\n",
              "  </div>\n",
              "\n",
              "\n",
              "<div id=\"df-2990cd05-3dc7-4ed2-9570-da974240f984\">\n",
              "  <button class=\"colab-df-quickchart\" onclick=\"quickchart('df-2990cd05-3dc7-4ed2-9570-da974240f984')\"\n",
              "            title=\"Suggest charts\"\n",
              "            style=\"display:none;\">\n",
              "\n",
              "<svg xmlns=\"http://www.w3.org/2000/svg\" height=\"24px\"viewBox=\"0 0 24 24\"\n",
              "     width=\"24px\">\n",
              "    <g>\n",
              "        <path d=\"M19 3H5c-1.1 0-2 .9-2 2v14c0 1.1.9 2 2 2h14c1.1 0 2-.9 2-2V5c0-1.1-.9-2-2-2zM9 17H7v-7h2v7zm4 0h-2V7h2v10zm4 0h-2v-4h2v4z\"/>\n",
              "    </g>\n",
              "</svg>\n",
              "  </button>\n",
              "\n",
              "<style>\n",
              "  .colab-df-quickchart {\n",
              "      --bg-color: #E8F0FE;\n",
              "      --fill-color: #1967D2;\n",
              "      --hover-bg-color: #E2EBFA;\n",
              "      --hover-fill-color: #174EA6;\n",
              "      --disabled-fill-color: #AAA;\n",
              "      --disabled-bg-color: #DDD;\n",
              "  }\n",
              "\n",
              "  [theme=dark] .colab-df-quickchart {\n",
              "      --bg-color: #3B4455;\n",
              "      --fill-color: #D2E3FC;\n",
              "      --hover-bg-color: #434B5C;\n",
              "      --hover-fill-color: #FFFFFF;\n",
              "      --disabled-bg-color: #3B4455;\n",
              "      --disabled-fill-color: #666;\n",
              "  }\n",
              "\n",
              "  .colab-df-quickchart {\n",
              "    background-color: var(--bg-color);\n",
              "    border: none;\n",
              "    border-radius: 50%;\n",
              "    cursor: pointer;\n",
              "    display: none;\n",
              "    fill: var(--fill-color);\n",
              "    height: 32px;\n",
              "    padding: 0;\n",
              "    width: 32px;\n",
              "  }\n",
              "\n",
              "  .colab-df-quickchart:hover {\n",
              "    background-color: var(--hover-bg-color);\n",
              "    box-shadow: 0 1px 2px rgba(60, 64, 67, 0.3), 0 1px 3px 1px rgba(60, 64, 67, 0.15);\n",
              "    fill: var(--button-hover-fill-color);\n",
              "  }\n",
              "\n",
              "  .colab-df-quickchart-complete:disabled,\n",
              "  .colab-df-quickchart-complete:disabled:hover {\n",
              "    background-color: var(--disabled-bg-color);\n",
              "    fill: var(--disabled-fill-color);\n",
              "    box-shadow: none;\n",
              "  }\n",
              "\n",
              "  .colab-df-spinner {\n",
              "    border: 2px solid var(--fill-color);\n",
              "    border-color: transparent;\n",
              "    border-bottom-color: var(--fill-color);\n",
              "    animation:\n",
              "      spin 1s steps(1) infinite;\n",
              "  }\n",
              "\n",
              "  @keyframes spin {\n",
              "    0% {\n",
              "      border-color: transparent;\n",
              "      border-bottom-color: var(--fill-color);\n",
              "      border-left-color: var(--fill-color);\n",
              "    }\n",
              "    20% {\n",
              "      border-color: transparent;\n",
              "      border-left-color: var(--fill-color);\n",
              "      border-top-color: var(--fill-color);\n",
              "    }\n",
              "    30% {\n",
              "      border-color: transparent;\n",
              "      border-left-color: var(--fill-color);\n",
              "      border-top-color: var(--fill-color);\n",
              "      border-right-color: var(--fill-color);\n",
              "    }\n",
              "    40% {\n",
              "      border-color: transparent;\n",
              "      border-right-color: var(--fill-color);\n",
              "      border-top-color: var(--fill-color);\n",
              "    }\n",
              "    60% {\n",
              "      border-color: transparent;\n",
              "      border-right-color: var(--fill-color);\n",
              "    }\n",
              "    80% {\n",
              "      border-color: transparent;\n",
              "      border-right-color: var(--fill-color);\n",
              "      border-bottom-color: var(--fill-color);\n",
              "    }\n",
              "    90% {\n",
              "      border-color: transparent;\n",
              "      border-bottom-color: var(--fill-color);\n",
              "    }\n",
              "  }\n",
              "</style>\n",
              "\n",
              "  <script>\n",
              "    async function quickchart(key) {\n",
              "      const quickchartButtonEl =\n",
              "        document.querySelector('#' + key + ' button');\n",
              "      quickchartButtonEl.disabled = true;  // To prevent multiple clicks.\n",
              "      quickchartButtonEl.classList.add('colab-df-spinner');\n",
              "      try {\n",
              "        const charts = await google.colab.kernel.invokeFunction(\n",
              "            'suggestCharts', [key], {});\n",
              "      } catch (error) {\n",
              "        console.error('Error during call to suggestCharts:', error);\n",
              "      }\n",
              "      quickchartButtonEl.classList.remove('colab-df-spinner');\n",
              "      quickchartButtonEl.classList.add('colab-df-quickchart-complete');\n",
              "    }\n",
              "    (() => {\n",
              "      let quickchartButtonEl =\n",
              "        document.querySelector('#df-2990cd05-3dc7-4ed2-9570-da974240f984 button');\n",
              "      quickchartButtonEl.style.display =\n",
              "        google.colab.kernel.accessAllowed ? 'block' : 'none';\n",
              "    })();\n",
              "  </script>\n",
              "</div>\n",
              "\n",
              "  <div id=\"id_c80faaff-3a3a-4d3b-aeb0-a33d1c7ec724\">\n",
              "    <style>\n",
              "      .colab-df-generate {\n",
              "        background-color: #E8F0FE;\n",
              "        border: none;\n",
              "        border-radius: 50%;\n",
              "        cursor: pointer;\n",
              "        display: none;\n",
              "        fill: #1967D2;\n",
              "        height: 32px;\n",
              "        padding: 0 0 0 0;\n",
              "        width: 32px;\n",
              "      }\n",
              "\n",
              "      .colab-df-generate:hover {\n",
              "        background-color: #E2EBFA;\n",
              "        box-shadow: 0px 1px 2px rgba(60, 64, 67, 0.3), 0px 1px 3px 1px rgba(60, 64, 67, 0.15);\n",
              "        fill: #174EA6;\n",
              "      }\n",
              "\n",
              "      [theme=dark] .colab-df-generate {\n",
              "        background-color: #3B4455;\n",
              "        fill: #D2E3FC;\n",
              "      }\n",
              "\n",
              "      [theme=dark] .colab-df-generate:hover {\n",
              "        background-color: #434B5C;\n",
              "        box-shadow: 0px 1px 3px 1px rgba(0, 0, 0, 0.15);\n",
              "        filter: drop-shadow(0px 1px 2px rgba(0, 0, 0, 0.3));\n",
              "        fill: #FFFFFF;\n",
              "      }\n",
              "    </style>\n",
              "    <button class=\"colab-df-generate\" onclick=\"generateWithVariable('scale_df')\"\n",
              "            title=\"Generate code using this dataframe.\"\n",
              "            style=\"display:none;\">\n",
              "\n",
              "  <svg xmlns=\"http://www.w3.org/2000/svg\" height=\"24px\"viewBox=\"0 0 24 24\"\n",
              "       width=\"24px\">\n",
              "    <path d=\"M7,19H8.4L18.45,9,17,7.55,7,17.6ZM5,21V16.75L18.45,3.32a2,2,0,0,1,2.83,0l1.4,1.43a1.91,1.91,0,0,1,.58,1.4,1.91,1.91,0,0,1-.58,1.4L9.25,21ZM18.45,9,17,7.55Zm-12,3A5.31,5.31,0,0,0,4.9,8.1,5.31,5.31,0,0,0,1,6.5,5.31,5.31,0,0,0,4.9,4.9,5.31,5.31,0,0,0,6.5,1,5.31,5.31,0,0,0,8.1,4.9,5.31,5.31,0,0,0,12,6.5,5.46,5.46,0,0,0,6.5,12Z\"/>\n",
              "  </svg>\n",
              "    </button>\n",
              "    <script>\n",
              "      (() => {\n",
              "      const buttonEl =\n",
              "        document.querySelector('#id_c80faaff-3a3a-4d3b-aeb0-a33d1c7ec724 button.colab-df-generate');\n",
              "      buttonEl.style.display =\n",
              "        google.colab.kernel.accessAllowed ? 'block' : 'none';\n",
              "\n",
              "      buttonEl.onclick = () => {\n",
              "        google.colab.notebook.generateWithVariable('scale_df');\n",
              "      }\n",
              "      })();\n",
              "    </script>\n",
              "  </div>\n",
              "\n",
              "    </div>\n",
              "  </div>\n"
            ],
            "application/vnd.google.colaboratory.intrinsic+json": {
              "type": "dataframe",
              "variable_name": "scale_df",
              "summary": "{\n  \"name\": \"scale_df\",\n  \"rows\": 2,\n  \"fields\": [\n    {\n      \"column\": \"label\",\n      \"properties\": {\n        \"dtype\": \"string\",\n        \"num_unique_values\": 2,\n        \"samples\": [\n          \"B scale\",\n          \"A scale\"\n        ],\n        \"semantic_type\": \"\",\n        \"description\": \"\"\n      }\n    },\n    {\n      \"column\": \"mean\",\n      \"properties\": {\n        \"dtype\": \"number\",\n        \"std\": 0.6717514421272323,\n        \"min\": 45.49,\n        \"max\": 46.44000000000002,\n        \"num_unique_values\": 2,\n        \"samples\": [\n          46.44000000000002,\n          45.49\n        ],\n        \"semantic_type\": \"\",\n        \"description\": \"\"\n      }\n    },\n    {\n      \"column\": \"median\",\n      \"properties\": {\n        \"dtype\": \"number\",\n        \"std\": 0.8662058069535167,\n        \"min\": 45.495000000000005,\n        \"max\": 46.72,\n        \"num_unique_values\": 2,\n        \"samples\": [\n          46.72,\n          45.495000000000005\n        ],\n        \"semantic_type\": \"\",\n        \"description\": \"\"\n      }\n    },\n    {\n      \"column\": \"std\",\n      \"properties\": {\n        \"dtype\": \"number\",\n        \"std\": 0.20880370191951692,\n        \"min\": 1.9589474214485696,\n        \"max\": 2.2542404485768595,\n        \"num_unique_values\": 2,\n        \"samples\": [\n          2.2542404485768595,\n          1.9589474214485696\n        ],\n        \"semantic_type\": \"\",\n        \"description\": \"\"\n      }\n    }\n  ]\n}"
            }
          },
          "metadata": {}
        }
      ],
      "source": [
        "# TODO: Print the means, medians, and standard deviations as a nice table.\n",
        "increase_df = pd.DataFrame(increase_stats)\n",
        "scale_df = pd.DataFrame(scale_stats)\n",
        "\n",
        "display(increase_df)\n",
        "display(scale_df)"
      ]
    },
    {
      "cell_type": "markdown",
      "metadata": {
        "id": "bb6280c2-f959-48ae-84b6-b8a8ef930198"
      },
      "source": [
        "## (b) Create a new histogram following the same process as step 1(b), but with the “Increase” data. Give your chart an informative title and axis labels. Print the new frequencies.\n"
      ]
    },
    {
      "cell_type": "code",
      "execution_count": null,
      "metadata": {
        "id": "cc71ed2d-d310-442d-9e0c-258954fdc3d8",
        "colab": {
          "base_uri": "https://localhost:8080/"
        },
        "collapsed": true,
        "outputId": "9b7b212d-d881-4a0b-928c-f5ec6112697e"
      },
      "outputs": [
        {
          "output_type": "stream",
          "name": "stdout",
          "text": [
            "A increase counts: [ 0  0  0  0  1  4  5 13 17 20 17 13  6  3  1  0]\n",
            "B increase counts: [ 0  0  0  1  1  4  5  8 13 16 19 15 11  5  1  1]\n"
          ]
        }
      ],
      "source": [
        "A_increase_counts, A_bins = np.histogram(A_increase, bins) # TODO: compute the new frequencies for the \"Increase data\"\n",
        "print(\"A increase counts:\", A_increase_counts)\n",
        "B_increase_counts, B_bins = np.histogram(B_increase, bins) # TODO: compute the new frequencies for the \"Increase data\"\n",
        "print(\"B increase counts:\", B_increase_counts)\n"
      ]
    },
    {
      "cell_type": "code",
      "execution_count": null,
      "metadata": {
        "id": "37a6ba35-417d-44b0-b247-7a32b12b2015",
        "colab": {
          "base_uri": "https://localhost:8080/",
          "height": 472
        },
        "outputId": "d9c4912a-c80c-4851-9936-091aeda50a95"
      },
      "outputs": [
        {
          "output_type": "display_data",
          "data": {
            "text/plain": [
              "<Figure size 640x480 with 1 Axes>"
            ],
            "image/png": "[encoded data removed]"
          },
          "metadata": {}
        }
      ],
      "source": [
        "# TODO: Create a histogram with the \"Increase\" data\n",
        "plt.bar(A_bins[1:], A_increase_counts, color='lightblue')\n",
        "plt.bar(B_bins[1:]+1, B_increase_counts, color='lightpink')\n",
        "plt.xlabel('bins')\n",
        "plt.ylabel('frequency')\n",
        "plt.title('Increasing Data')\n",
        "plt.grid(axis='y', linestyle = '--')\n",
        "plt.show()"
      ]
    },
    {
      "cell_type": "markdown",
      "metadata": {
        "id": "4acd6776-1c7a-4cf9-a984-e5113c795bd7"
      },
      "source": [
        "## (c) Create another histogram, this time showing “Scale” data. Give your chart an informative title and axis labels. Print the new frequencies."
      ]
    },
    {
      "cell_type": "code",
      "execution_count": null,
      "metadata": {
        "id": "374562de-5f43-4fde-838c-7a9f6f868770",
        "colab": {
          "base_uri": "https://localhost:8080/"
        },
        "outputId": "4191d711-38d8-4ec9-d6e3-ce17bbb7c0e6"
      },
      "outputs": [
        {
          "output_type": "stream",
          "name": "stdout",
          "text": [
            "A scale counts: [ 0  0  0  0  1  9 30 37 19  4  0  0  0  0  0  0]\n",
            "B scale counts: [ 0  0  0  0  1  7 14 39 26 11  2  0  0  0  0  0]\n"
          ]
        }
      ],
      "source": [
        "A_scale_counts, A_bins = np.histogram(A_scale, bins) # TODO: compute the new frequencies for the \"Scale data\"\n",
        "print(\"A scale counts:\", A_scale_counts)\n",
        "B_scale_counts, B_bins = np.histogram(B_scale, bins) # TODO: compute the new frequencies for the \"Scale data\"\n",
        "print(\"B scale counts:\", B_scale_counts)\n"
      ]
    },
    {
      "cell_type": "code",
      "execution_count": null,
      "metadata": {
        "id": "723d7334-cd9f-448d-9277-313ef9930e78",
        "colab": {
          "base_uri": "https://localhost:8080/",
          "height": 472
        },
        "outputId": "c6fb4ba5-926c-4375-99b5-6f79a9d5bf9c"
      },
      "outputs": [
        {
          "output_type": "display_data",
          "data": {
            "text/plain": [
              "<Figure size 640x480 with 1 Axes>"
            ],
            "image/png": "[encoded data removed]"
          },
          "metadata": {}
        }
      ],
      "source": [
        "# TODO: Create a histogram with the \"Scale\" data\n",
        "plt.bar(A_bins[1:], A_scale_counts, color='lightblue')\n",
        "plt.bar(B_bins[1:]+1, B_scale_counts, color='lightpink')\n",
        "plt.xlabel('bins')\n",
        "plt.ylabel('frequency')\n",
        "plt.title('Scaled Data')\n",
        "plt.grid(axis='y', linestyle = '--')\n",
        "plt.show()"
      ]
    },
    {
      "cell_type": "markdown",
      "metadata": {
        "id": "59d029c4-4cde-4e96-833a-cb386aca88bd"
      },
      "source": [
        "## (d) Calculate the quartiles of the new “Increase” and “Scale” datasets. Then graph the values by adding them into the boxplot you created in Question 1(c)."
      ]
    },
    {
      "cell_type": "code",
      "execution_count": null,
      "metadata": {
        "id": "84fcf5df-4ec9-4121-ac0c-ff8f6c543575",
        "colab": {
          "base_uri": "https://localhost:8080/",
          "height": 543
        },
        "outputId": "fd61568c-bdc4-42a3-a4b6-2daa7d33808b"
      },
      "outputs": [
        {
          "output_type": "stream",
          "name": "stderr",
          "text": [
            "<ipython-input-62-af4fcce17340>:4: MatplotlibDeprecationWarning: The 'labels' parameter of boxplot() has been renamed 'tick_labels' since Matplotlib 3.9; support for the old name will be dropped in 3.11.\n",
            "  plt.boxplot([A, B, A_increase, B_increase, A_scale, B_scale], labels=labels)\n"
          ]
        },
        {
          "output_type": "display_data",
          "data": {
            "text/plain": [
              "<Figure size 640x480 with 1 Axes>"
            ],
            "image/png": "[encoded data removed]"
          },
          "metadata": {}
        }
      ],
      "source": [
        "labels=['A', 'B', 'A increase', 'B increase', 'A scale', 'B scale']\n",
        "\n",
        "# Create a new boxplot containing data for all groups\n",
        "plt.boxplot([A, B, A_increase, B_increase, A_scale, B_scale], labels=labels)\n",
        "plt.xlabel('Groups')\n",
        "plt.ylabel('Values')\n",
        "plt.title('Boxplot of Handover Algorithm Performance')\n",
        "plt.xticks(rotation=45, ha='right')\n",
        "plt.tight_layout()\n",
        "plt.show()"
      ]
    },
    {
      "cell_type": "code",
      "execution_count": null,
      "metadata": {
        "id": "fefd0f7c-0677-4924-a2d7-100f0af5c545",
        "colab": {
          "base_uri": "https://localhost:8080/"
        },
        "outputId": "18498679-2786-41c0-e929-992c7b55b00c"
      },
      "outputs": [
        {
          "output_type": "stream",
          "name": "stdout",
          "text": [
            "  label  lower_whisker  lower_quartile  median  upper_quartile  upper_whisker\n",
            "0     A             36            43.0    45.5            48.0             55\n",
            "1     B             34            44.0    47.0            50.0             58\n"
          ]
        }
      ],
      "source": [
        "# TODO: Calculate the values of the boxplot parameters. Print as a nice table.\n",
        "rows_list = []\n",
        "def compute_boxplot_stats(label, data):\n",
        "  return {\n",
        "      'label': label,\n",
        "      'lower_whisker': np.min(data),\n",
        "      'lower_quartile': np.percentile(data, 25),\n",
        "      'median': np.median(data),\n",
        "      'upper_quartile': np.percentile(data, 75),\n",
        "      'upper_whisker': np.max(data)\n",
        "  }\n",
        "\n",
        "rows_list.append(compute_boxplot_stats('A', A))\n",
        "rows_list.append(compute_boxplot_stats('B', B))\n",
        "\n",
        "#make table\n",
        "boxplot_stats_df = pd.DataFrame(rows_list)\n",
        "print(boxplot_stats_df)\n"
      ]
    },
    {
      "cell_type": "markdown",
      "metadata": {
        "id": "53d9c297-0e17-46df-b8ad-b04d365d1e42"
      },
      "source": [
        "# 5. (10 pts) Inferential statistics, part 2"
      ]
    },
    {
      "cell_type": "markdown",
      "metadata": {
        "id": "6ea4ac83-80f3-4faa-a7fa-9cf21141425c"
      },
      "source": [
        "## (a) Repeat the unpaired t-test from Question 2, but now on the “Increase” data. Print the result and tell if it is significant.\n"
      ]
    },
    {
      "cell_type": "code",
      "execution_count": null,
      "metadata": {
        "id": "a57e9e78-f172-4333-8900-303187a145a8",
        "colab": {
          "base_uri": "https://localhost:8080/"
        },
        "outputId": "57ad0824-e78d-455b-fa84-41c203312bea"
      },
      "outputs": [
        {
          "output_type": "stream",
          "name": "stdout",
          "text": [
            "T-statistic: -1.582527621594864\n",
            "P-value: 0.11512517100030144\n"
          ]
        }
      ],
      "source": [
        "# TODO: Run an unpaired t-test on the Increase data.\n",
        "t_statistic, p_value = stats.ttest_ind(A_increase, B_increase)\n",
        "print(\"T-statistic:\", t_statistic)\n",
        "print(\"P-value:\", p_value)"
      ]
    },
    {
      "cell_type": "markdown",
      "metadata": {
        "id": "00270d29-7695-481a-b36c-34da9d55ea7d"
      },
      "source": [
        "Is it significant?"
      ]
    },
    {
      "cell_type": "markdown",
      "metadata": {
        "id": "83d666cd-7fee-475a-8e3a-c3d7d3be6760"
      },
      "source": [
        "Answer: No. Since the p-value is 0.115 which is greater than 0.05 it is not significant."
      ]
    },
    {
      "cell_type": "markdown",
      "metadata": {
        "id": "9bcf85cd-6aba-4480-8363-25083145f81f"
      },
      "source": [
        "## (b) Repeat the unpaired t-test again on the “Scale” data.  Print the result and tell if it is significant."
      ]
    },
    {
      "cell_type": "code",
      "execution_count": null,
      "metadata": {
        "id": "0260e26e-8ffb-4c6d-9d2f-6036c538fb01",
        "colab": {
          "base_uri": "https://localhost:8080/"
        },
        "outputId": "ca244e85-1628-4d05-ee0d-b55032de29dd"
      },
      "outputs": [
        {
          "output_type": "stream",
          "name": "stdout",
          "text": [
            "T-statistic: -3.1650552431897996\n",
            "P-value: 0.001795324021981355\n"
          ]
        }
      ],
      "source": [
        "# TODO: Run an unpaired t-test on the Scale data.\n",
        "t_statistic, p_value = stats.ttest_ind(df['A scale'], df['B scale'])\n",
        "print(\"T-statistic:\", t_statistic)\n",
        "print(\"P-value:\", p_value)"
      ]
    },
    {
      "cell_type": "markdown",
      "metadata": {
        "id": "39fa08e3-e7d8-42c2-8cad-97ad67dd5fb6"
      },
      "source": [
        "Is it signficant?"
      ]
    },
    {
      "cell_type": "markdown",
      "metadata": {
        "id": "b41503cd-aef5-4323-8524-5d99c607fa2d"
      },
      "source": [
        "Answer: Yes. Since the p-value is 0.0017 which is less than 0.05, it is significant."
      ]
    },
    {
      "cell_type": "markdown",
      "metadata": {
        "id": "e6f67640-f44a-4fb5-9fc4-aa4c9db8d931"
      },
      "source": [
        "# 6. (30 pts) Reflections\n",
        "Now let’s reflect on how the changes to the data affected our outcomes. Complete the following short answer questions."
      ]
    },
    {
      "cell_type": "markdown",
      "metadata": {
        "id": "7b99d57d-be46-4110-9282-bb462c7aa9ab"
      },
      "source": [
        "### (a) In question 4(a), how did the means and standard deviations change between the original dataset, the “Increase” dataset, and the “Scale” dataset? Why did these changes occur?"
      ]
    },
    {
      "cell_type": "markdown",
      "metadata": {
        "id": "ca7cc57a-77a5-4ab2-a291-79453c576249"
      },
      "source": [
        "TODO: For Increase: The means increased by exactly 4 units compared to the original data (A: 45.49 to 49.49 B: 46.44 to 50:44). Adding a constant to the value shifts the complete distribution increases by the amount added. The standard deviation won't change because standard deviation measures dispersion relative to the mean, and shifting all values equally does not affect variability."
      ]
    },
    {
      "cell_type": "markdown",
      "metadata": {
        "id": "df9b1f74-00a3-4869-9af0-1cc332b59782"
      },
      "source": [
        "### (b) In questions 4(b) and 4(c), you generated new histograms for the “Increase” and “Scale” datasets, respectively. How do the charts visually compare with the original data’s histogram?"
      ]
    },
    {
      "cell_type": "markdown",
      "metadata": {
        "id": "38620f7a-59e6-4b05-9787-79567f2f226d"
      },
      "source": [
        "TODO: Increase histogram: It maintains the shape as the original histogram. Which means the normal distribution shape and skewness were the same.The frequency appears slightly shifted with some  of the bins. This show a higher peak compared to the original.\n",
        "\n",
        "Scale: This graph has a bell-shaped distribution. The frequencies peak near the center of the bins. This aspect is similar to the original graph. The frequency is apmlified an hits peak at 40 whereas the original histogram peak at 20.\n",
        "Both graphs have same bin ranges. Even after scaling, the bin intervals didn't change."
      ]
    },
    {
      "cell_type": "markdown",
      "metadata": {
        "id": "923d80e3-029c-4dd8-a8a1-9dbd1752769e"
      },
      "source": [
        "### (c) In question 5(a), you ran a t-test for the “Increase” data. How is this p-value different, if at all, from the original data? Why did this occur?"
      ]
    },
    {
      "cell_type": "markdown",
      "metadata": {
        "id": "a2bf0cbd-7e82-45b5-8b82-a3b9fd9a5673"
      },
      "source": [
        "TODO: The p-values are exactly the same for the original data and the increasing data.\n",
        "The increase dataet was created just by adding the constantt value to all elements in both the groups and hence it does not change the relative difference the group or variance."
      ]
    },
    {
      "cell_type": "markdown",
      "metadata": {
        "id": "182dc0c0-4eb2-432e-873d-68ecf867cef8"
      },
      "source": [
        "### (d) In question 5(b), you ran a t-test for the “Scale” data. How is the p-value the same or different than the other p-values you’ve gotten, and what does that allow us to conclude about the “Scale” data?\n"
      ]
    },
    {
      "cell_type": "markdown",
      "metadata": {
        "id": "c2fa2a4c-4d2f-491c-9234-b98726efd3ab"
      },
      "source": [
        "TODO: The scale transformation changed significantly the t-test, unlike how it was same for the increase datasets.\n",
        "The scaling enhanced the group differencess or reduced noice, allowing statistical significnce to be detected.\n",
        "This also highlights the certain transformations which can impact the statistical tests by amplifying the effects."
      ]
    },
    {
      "cell_type": "markdown",
      "metadata": {
        "id": "d6e28e1a-2772-4c59-9f73-6aab7ecb13ac"
      },
      "source": [
        "# 7. (10 pts) Paired vs Unpaired\n",
        "Re-read Hoffman and Zhao (2020) section 8.2, which describes t-tests. Complete the following short answer questions."
      ]
    },
    {
      "cell_type": "markdown",
      "metadata": {
        "id": "e53f9272-0415-4c79-8b7d-75d25b07a31b"
      },
      "source": [
        "### (a) The original study used a between-subjects design, so we employed an unpaired (independent) t-test. Why was this the correct variant of the t-test to use in this case?\n"
      ]
    },
    {
      "cell_type": "markdown",
      "metadata": {
        "id": "7deb9f71-690c-40f2-bf66-b890fb1771bc"
      },
      "source": [
        "TODO: The independnet t-test was the correct choice because it is designed for comparing means between the two different groups, which matches the structure of a between-subject design, they had only one condition. This approach ensures that any observed differences can be attributed to the experimental manipulation. The independent t-test is specifically designed to compare the means of two independent groups, making it the correct choice for this setup."
      ]
    },
    {
      "cell_type": "markdown",
      "metadata": {
        "id": "7870be40-3e1c-48fe-b981-51fb8acd2109"
      },
      "source": [
        "### (b) To see what would happen if we used a paired t-test instead of an unpaired one, re-run the test on the original (“A” and “B”) data. Print the p-value and indiciate whether it is significant or not."
      ]
    },
    {
      "cell_type": "code",
      "execution_count": null,
      "metadata": {
        "id": "9fd6058b-3aba-4813-8976-ec6096872c8b",
        "colab": {
          "base_uri": "https://localhost:8080/"
        },
        "outputId": "5e3b1abc-ed11-4512-c931-559cc847bbc4"
      },
      "outputs": [
        {
          "output_type": "execute_result",
          "data": {
            "text/plain": [
              "TtestResult(statistic=-3.4406432300326717, pvalue=0.0008511424073002447, df=99)"
            ]
          },
          "metadata": {},
          "execution_count": 72
        }
      ],
      "source": [
        "# TODO: Run a paired t-test. Hint: stats.ttest_rel will be relevant.\n",
        "stats.ttest_rel(A, B)"
      ]
    },
    {
      "cell_type": "markdown",
      "metadata": {
        "id": "e60befc1-3332-47ca-a360-873b4dc66dd9"
      },
      "source": [
        "Is it significant?\n"
      ]
    },
    {
      "cell_type": "markdown",
      "metadata": {
        "id": "4d3f31b6-1fff-4433-8b28-9fd94c8250d8"
      },
      "source": [
        "Answer: Yes. Since the p-value is 0.0008 which is less than 0.05, it is significant."
      ]
    },
    {
      "cell_type": "markdown",
      "metadata": {
        "id": "f828ff1f-ea51-4573-8d4d-3bd8fd12fce3"
      },
      "source": [
        "### (c) Are the p-values for the paired and unpaired variants of the test different? Why do you think this is the case?"
      ]
    },
    {
      "cell_type": "markdown",
      "metadata": {
        "id": "2cd7aa53-9cb9-46ea-88ac-336e218f87f2"
      },
      "source": [
        "TODO: Yes, they are different: Unpaired t-test: p-value = 0.115 (not-significant)\n",
        "Paired t-test: p-value = 0.00085 (significant)\n",
        "This is because the paired t-test assumes that there is a relationship between the two groups. It focuses on nthe differences within pairs, reducing the variabilityy and increasing sensitivity to identify the differences. That's why the p-value is smaller compaired to the unpaired t-test."
      ]
    }
  ]
}